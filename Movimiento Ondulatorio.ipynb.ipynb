{
 "cells": [
  {
   "cell_type": "markdown",
   "metadata": {
    "id": "q_wCBaI9KIfu"
   },
   "source": [
    "INTEGRANTES\n",
    "\n",
    "- Juan Guillermo Duque Montoya\n",
    "- Alejandro Marin Marin"
   ]
  },
  {
   "cell_type": "markdown",
   "metadata": {
    "id": "1SVPsso8F8bK"
   },
   "source": [
    "**MOVIMIENTO ONDULATORIO**\n",
    "\n",
    "El movimiento ondulatorio es la propagación de una perturbación en un medio material (sólido, líquido o gas) sin que haya transporte de materia. La perturbación desplaza las partículas del medio de su posición de equilibrio, y esta perturbación se transmite a las partículas circundantes, como ondas en el agua o el sonido en el aire. Imaginemos que lanzamos una piedra en un estanque. La piedra crea una perturbación en la superficie del agua, desplazando las moléculas de agua hacia afuera. Esta perturbación no se queda en el lugar donde cayó la piedra, sino que se propaga en forma de ondas circulares que se alejan del punto de impacto.\n",
    "\n",
    "**ONDA**\n",
    "\n",
    "Una onda es una perturbación que se propaga a través de un medio o en el vacío, transportando energía sin que haya un desplazamiento neto de las partículas o campos que conforman dicho medio. de energía, pero no de materia. Las partículas o campos del medio oscilan alrededor de su posición de equilibrio a medida que la onda se propaga. Existen diferentes tipos de ondas, como las mecánicas, electromagnéticas y gravitacionales, que se clasifican según el medio de propagación y la forma de oscilación.\n",
    "Las ondas pueden tener diferentes características como amplitud, frecuencia, longitud de onda, velocidad de propagación, entre otras propiedades que las definen."
   ]
  },
  {
   "cell_type": "code",
   "execution_count": null,
   "metadata": {
    "cellView": "form",
    "colab": {
     "base_uri": "https://localhost:8080/",
     "height": 321
    },
    "executionInfo": {
     "elapsed": 302,
     "status": "ok",
     "timestamp": 1717807965246,
     "user": {
      "displayName": "Alejandro Marin Marin",
      "userId": "12754408092033862019"
     },
     "user_tz": 300
    },
    "id": "uPbn-Q6XVAYS",
    "outputId": "bb87900a-ecd3-4a43-a6d4-4c3664e7a7d3"
   },
   "outputs": [
    {
     "data": {
      "text/html": [
       "\n",
       "<img src=\" https://static.wixstatic.com/media/5998ac_a45b21364058494d84c4a3fc9c628488~mv2.gif \" alt=\"GIF\" style=\"width: 400px; height: 300px;\">\n"
      ],
      "text/plain": [
       "<IPython.core.display.HTML object>"
      ]
     },
     "metadata": {},
     "output_type": "display_data"
    }
   ],
   "source": [
    "# @title # <font color='black'> Ejemplo aplicado\n",
    "from IPython.display import HTML\n",
    "\n",
    "# URL del GIF que deseas mostrar\n",
    "url_gif = \" https://static.wixstatic.com/media/5998ac_a45b21364058494d84c4a3fc9c628488~mv2.gif \"\n",
    "\n",
    "# Ancho y alto deseados del GIF (en píxeles)\n",
    "ancho_gif = 400\n",
    "alto_gif = 300\n",
    "\n",
    "# Código HTML para mostrar el GIF con tamaño modificable\n",
    "html_gif = f\"\"\"\n",
    "<img src=\"{url_gif}\" alt=\"GIF\" style=\"width: {ancho_gif}px; height: {alto_gif}px;\">\n",
    "\"\"\"\n",
    "\n",
    "# Mostrar el GIF en el notebook\n",
    "display(HTML(html_gif))"
   ]
  },
  {
   "cell_type": "markdown",
   "metadata": {
    "id": "vNXW1rVKVdrS"
   },
   "source": [
    "**CLASIFICACION DE LAS ONDAS**\n",
    "\n",
    "## *Clasificación de las ondas según el medio de propagación:*\n",
    "\n",
    "* **Ondas mecánicas:**\n",
    "Se propagan a través de un medio material (sólido, líquido o gaseoso).\n",
    "Implican la transferencia de energía a través de la vibración de las partículas del medio.\n",
    "Ejemplos: sonido, ondas en cuerdas, ondas sísmicas.\n",
    "\n",
    "* **Ondas electromagnéticas:**\n",
    "Se propagan a través del espacio vacío o de medios materiales.\n",
    "No necesitan un medio material para propagarse, se pueden propagar en el vacío.\n",
    "Implican la oscilación de campos eléctricos y magnéticos.\n",
    "Ejemplos: luz, radio, microondas, rayos X, rayos gamma.\n",
    "\n",
    "* **Ondas gravitacionales:**\n",
    "Se propagan a través del espacio-tiempo.\n",
    "Se generan por la aceleración de masas, como en la colisión de estrellas de neutrones o agujeros negros.\n",
    "Implican la oscilación de la curvatura del espacio-tiempo.\n",
    "Fueron predichas por la teoría de la relatividad general de Einstein y detectadas experimentalmente por primera vez en 2015.\n",
    "\n",
    "## *Clasificación de las ondas según la forma de oscilación de las partículas o campos:*\n",
    "\n",
    "* **Ondas transversales:**\n",
    "Las partículas o campos oscilan perpendicularmente a la dirección de propagación de la onda.\n",
    "Ejemplos: ondas en cuerdas, ondas electromagnéticas (luz, radio).\n",
    "\n",
    "* **Ondas longitudinales:**\n",
    "Las partículas o campos oscilan paralelamente a la dirección de propagación de la onda.\n",
    "Ejemplos: ondas de sonido, ondas sísmicas.\n",
    "\n",
    "* **Ondas elípticas:**\n",
    "Las partículas o campos oscilan en trayectorias elípticas con respecto a la dirección de propagación.\n",
    "Ejemplo: algunas ondas electromagnéticas como la luz polarizada circularmente.\n",
    "\n",
    "En resumen, las ondas se clasifican según el medio de propagación (mecánicas, electromagnéticas, gravitacionales) y según la forma de oscilación de las partículas o campos (transversales, longitudinales, elípticas). Esta clasificación es fundamental para entender el comportamiento y las propiedades de los diferentes tipos de ondas.\n"
   ]
  },
  {
   "cell_type": "code",
   "execution_count": null,
   "metadata": {
    "cellView": "form",
    "colab": {
     "base_uri": "https://localhost:8080/",
     "height": 643
    },
    "executionInfo": {
     "elapsed": 11,
     "status": "ok",
     "timestamp": 1712416524247,
     "user": {
      "displayName": "Alejandro Marin Marin",
      "userId": "12754408092033862019"
     },
     "user_tz": 300
    },
    "id": "RKlFF1T791vL",
    "outputId": "6ce8a08e-3bc5-4971-abed-a4ae66284f79"
   },
   "outputs": [
    {
     "data": {
      "text/html": [
       "<iframe src=\"https://www.geogebra.org/classic/vgjwy2fc?embed\" width=\"800\" height=\"600\" allowfullscreen style=\"border: 1px solid #e4e4e4;border-radius: 4px;\" frameborder=\"0\"></iframe>\n"
      ],
      "text/plain": [
       "<IPython.core.display.HTML object>"
      ]
     },
     "metadata": {},
     "output_type": "display_data"
    }
   ],
   "source": [
    "# @title Simulacion Movimiento Ondulatorio Onda Unidimensional\n",
    "%%html\n",
    "<iframe src=\"https://www.geogebra.org/classic/vgjwy2fc?embed\" width=\"800\" height=\"600\" allowfullscreen style=\"border: 1px solid #e4e4e4;border-radius: 4px;\" frameborder=\"0\"></iframe>"
   ]
  },
  {
   "cell_type": "markdown",
   "metadata": {
    "id": "CXcRr5pPWWF_"
   },
   "source": [
    "## **Principio de superposición de ondas:**\n",
    "El principio de superposición de ondas es un concepto fundamental en la física que describe cómo interactúan las ondas entre sí cuando se encuentran en el mismo medio. Según este principio, cuando dos o más ondas se encuentran en el mismo punto en el espacio, la onda resultante es la suma algebraica de las amplitudes de las ondas individuales en ese punto.\n",
    "\n",
    "Este principio se aplica a cualquier tipo de onda, incluidas las ondas sonoras, las ondas de luz (ondas electromagnéticas), y las ondas en cuerdas o superficies líquidas, siempre y cuando las ondas se comporten de manera lineal. Esto significa que las propiedades del medio por donde se propagan las ondas no cambian con la amplitud de la onda, manteniendo la forma de la onda sin distorsionarla.\n",
    "\n",
    "### *Características importantes del principio de superposición:*\n",
    "\n",
    "* **Interferencia:** La superposición de ondas puede llevar a fenómenos de interferencia, donde la onda resultante puede tener una amplitud mayor (interferencia constructiva) o menor (interferencia destructiva) que las ondas originales, dependiendo de si las ondas se encuentran en fase (sus crestas y valles coinciden) o fuera de fase (las crestas de una coinciden con los valles de otra), respectivamente.\n",
    "\n",
    "* **No interacción:** A pesar de que las ondas pueden sumarse y formar patrones de interferencia, las ondas individuales no se alteran o cambian su trayectoria como resultado de su encuentro; después de superponerse, continúan propagándose en su dirección original con sus características originales intactas. Esto es evidencia de la linealidad del medio y de las ondas mismas.\n",
    "\n",
    "* **Aplicabilidad universal:** El principio de superposición no se limita a un tipo específico de ondas y puede observarse en fenómenos que abarcan desde la acústica hasta la óptica y la mecánica cuántica.\n",
    "\n",
    "### *Ejemplos de la aplicación del principio de superposición:*\n",
    "\n",
    "1. *Óptica*: En experimentos de interferencia de luz, como el experimento de doble rendija realizado por Thomas Young, el principio de superposición explica los patrones de franjas brillantes y oscuras resultantes de la interferencia constructiva y destructiva de las ondas de luz.\n",
    "\n",
    "2. *Acústica*: Cuando dos tonos musicales se tocan al mismo tiempo, el sonido resultante que escuchamos es una combinación de ambos tonos, debido a la superposición de sus ondas sonoras.\n",
    "\n",
    "3. *Mecánica de Ondas:* En el agua, las olas generadas por diferentes fuentes pueden superponerse, creando regiones de olas más altas o más bajas, dependiendo de cómo las crestas y valles de las olas individuales coincidan entre sí.\n",
    "\n",
    "El principio de superposición es una herramienta poderosa para entender y predecir el comportamiento de sistemas ondulatorios en una variedad de contextos físicos."
   ]
  },
  {
   "cell_type": "code",
   "execution_count": null,
   "metadata": {
    "cellView": "form",
    "colab": {
     "base_uri": "https://localhost:8080/",
     "height": 643
    },
    "executionInfo": {
     "elapsed": 474,
     "status": "ok",
     "timestamp": 1712419137755,
     "user": {
      "displayName": "Alejandro Marin Marin",
      "userId": "12754408092033862019"
     },
     "user_tz": 300
    },
    "id": "BQRejxm5A0me",
    "outputId": "bb29a1cb-d675-420b-bc3d-f3e2248fcbb4"
   },
   "outputs": [
    {
     "data": {
      "text/html": [
       "<iframe src=\"https://www.geogebra.org/classic/cp9afgze?embed\" width=\"800\" height=\"600\" allowfullscreen style=\"border: 1px solid #e4e4e4;border-radius: 4px;\" frameborder=\"0\"></iframe>\n"
      ],
      "text/plain": [
       "<IPython.core.display.HTML object>"
      ]
     },
     "metadata": {},
     "output_type": "display_data"
    }
   ],
   "source": [
    "# @title Simulacion Ondas de superposicion\n",
    "%%html\n",
    "<iframe src=\"https://www.geogebra.org/classic/cp9afgze?embed\" width=\"800\" height=\"600\" allowfullscreen style=\"border: 1px solid #e4e4e4;border-radius: 4px;\" frameborder=\"0\"></iframe>"
   ]
  },
  {
   "cell_type": "markdown",
   "metadata": {
    "id": "u3aVpbGfWwsH"
   },
   "source": [
    "## **Ondas Armonicas:**\n",
    "\n",
    "Las ondas armónicas son un tipo de onda periódica que tiene la particularidad de ser descrita matemáticamente por funciones sinusoidales o cosinusoidales. Estas funciones son soluciones a la ecuación diferencial que describe un sistema oscilante simple y representan las formas más fundamentales de movimiento ondulatorio. Las ondas armónicas son importantes en diversos campos de la física y la ingeniería porque muchos sistemas físicos oscilan y propagan ondas de manera que se ajusta muy cerca a estas soluciones matemáticas.\n",
    "\n",
    "# *Características de las Ondas Armónicas*\n",
    "\n",
    "* **Forma Sinusoidal:** Una onda armónica en el tiempo se describe mediante la función:\n",
    "\n",
    "$$y(x,t) = A \\cdot sen\\left[ {k(x \\mp v \\cdot t)} \\right]$$\n",
    "\n",
    "También se puede escribir de la siguiente manera:\n",
    "\n",
    "$$y(x,t) = A \\cdot sen(k \\cdot x \\mp \\omega  \\cdot t + \\phi)$$\n",
    "\n",
    "Donde:\n",
    "\n",
    "* $A$ es la amplitud de la onda (el máximo desplazamiento de la posición de equilibrio).\n",
    "\n",
    "* $v$ es la velocidad de la onda.\n",
    "\n",
    "* $\\lambda$ es la longitud de onda:distancia entre dos puntos de máxima amplitud. La logitud de onda también es la distancia que avanza la onda en un periodo.\n",
    "\n",
    "* $k$ es el número de onda:\n",
    "\n",
    "$$k = {{2 \\cdot \\pi } \\over \\lambda }$$\n",
    "\n",
    "* $ω$ es la frecuencia angular (relacionada con la frecuencia de la onda):\n",
    "\n",
    "$$\\omega  = {{2 \\cdot \\pi } \\over T} = 2 \\cdot \\pi  \\cdot f$$\n",
    "\n",
    "* $t$ es el tiempo.\n",
    "\n",
    "* $\\phi$ es la fase inicial de la onda.\n",
    "\n",
    "* **Periodicidad:** Las ondas armónicas son periódicas, lo que significa que se repiten en el espacio o en el tiempo a intervalos regulares. La periodicidad temporal se describe con la frecuencia o el período, mientras que la periodicidad espacial se describe con la longitud de onda.\n",
    "\n",
    "* **Velocidad de Propagación Constante:** En un medio homogéneo y lineal, las ondas armónicas se propagan a una velocidad constante que depende de las propiedades del medio.\n",
    "\n",
    "* **Superposición:** Siguiendo el principio de superposición, varias ondas armónicas pueden combinarse para formar una nueva onda que es la suma algebraica de las ondas individuales. Esto puede dar lugar a fenómenos de interferencia."
   ]
  },
  {
   "cell_type": "code",
   "execution_count": null,
   "metadata": {
    "colab": {
     "base_uri": "https://localhost:8080/",
     "height": 623
    },
    "executionInfo": {
     "elapsed": 6,
     "status": "ok",
     "timestamp": 1717805444989,
     "user": {
      "displayName": "Alejandro Marin Marin",
      "userId": "12754408092033862019"
     },
     "user_tz": 300
    },
    "id": "T0RcreywJ0uC",
    "outputId": "2ef7c3a3-4574-4af9-9124-fa8762e01af2"
   },
   "outputs": [
    {
     "data": {
      "text/html": [
       "<iframe src=\"https://www.geogebra.org/classic/rw8qugxp?embed\" width=\"800\" height=\"600\" allowfullscreen style=\"border: 1px solid #e4e4e4;border-radius: 4px;\" frameborder=\"0\"></iframe>\n"
      ],
      "text/plain": [
       "<IPython.core.display.HTML object>"
      ]
     },
     "metadata": {},
     "output_type": "display_data"
    }
   ],
   "source": [
    "# @title Simulacion Onda Armonica\n",
    "%%html\n",
    "<iframe src=\"https://www.geogebra.org/classic/rw8qugxp?embed\" width=\"800\" height=\"600\" allowfullscreen style=\"border: 1px solid #e4e4e4;border-radius: 4px;\" frameborder=\"0\"></iframe>"
   ]
  }
 ],
 "metadata": {
  "colab": {
   "authorship_tag": "ABX9TyP1Wg8tIc5WOCy3AaHz52Wd",
   "provenance": []
  },
  "kernelspec": {
   "display_name": "Python 3",
   "name": "python3"
  },
  "language_info": {
   "name": "python"
  }
 },
 "nbformat": 4,
 "nbformat_minor": 0
}
