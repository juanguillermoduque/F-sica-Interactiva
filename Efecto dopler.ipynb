{
 "cells": [
  {
   "cell_type": "markdown",
   "metadata": {
    "id": "Fr5pAiW1RwJN"
   },
   "source": [
    "Integrantes:\n",
    "- Juan Guillermo Duque Montoya\n",
    "- Alejandro Marin Marin"
   ]
  },
  {
   "cell_type": "markdown",
   "metadata": {
    "id": "k9U_vA8i_ZAr"
   },
   "source": [
    "#<font color='Blue'>*EFECTO DOPPLER* </font>\n",
    "El efecto Doppler es un fenómeno físico que se observa cuando hay un movimiento relativo entre una fuente de ondas (como luz, sonido u ondas de radio) y un observador. Este efecto causa un cambio en la frecuencia percibida de las ondas.\n",
    "Este fenómeno afecta a todas las ondas, ya sean ondas sonoras, ondas de luz o ondas de radio, y se basa en la idea de que el movimiento relativo entre la fuente y el observador afecta la longitud de onda percibida.\n",
    "Cuando la fuente y el observador se acercan entre sí, las ondas se comprimen y la frecuencia percibida aumenta, lo que se conoce como desplazamiento al azul. Por otro lado, cuando se alejan, las ondas se elongan y la frecuencia percibida disminuye, lo que se conoce como desplazamiento al rojo.\n",
    "\n",
    "Este efecto se puede observar en situaciones cotidianas, como cuando un automóvil que se aproxima a un observador emite un tono más alto a medida que se acerca y luego un tono más bajo a medida que se aleja. El efecto Doppler también se aplica a otras ondas, como la luz, y se utiliza en diversas áreas, como la astronomía para medir la velocidad y dirección del movimiento de estrellas y galaxias, así como en aplicaciones médicas, como el ultrasonido Doppler para estudiar el flujo sanguíneo.\n"
   ]
  },
  {
   "cell_type": "markdown",
   "metadata": {
    "id": "k40V8TMtQvn9"
   },
   "source": [
    "**ONDAS DE CHOQUE**\n",
    "\n",
    "Las ondas de choque son fenómenos que ocurren cuando las perturbaciones en un fluido se propagan a una velocidad superior a la velocidad del sonido en ese medio. Estas ondas son de naturaleza no lineal y se caracterizan por ser superficies de discontinuidad en las propiedades del fluido, como la presión, la densidad y la temperatura.\n",
    "\n",
    "**Características de las Ondas de Choque:**\n",
    "\n",
    "1. Discontinuidad: A diferencia de las ondas sonoras normales, que son variaciones continuas y suaves de las propiedades del fluido, las ondas de choque muestran cambios abruptos y discontinuos.\n",
    "\n",
    "2. Compresión: Las ondas de choque comprimen el fluido, aumentando su presión y densidad de manera repentina al cruzar la onda de choque.\n",
    "\n",
    "3. Pérdida de Energía: Las ondas de choque están asociadas con pérdidas significativas de energía debido a fenómenos como la fricción y el calor, lo que resulta en un aumento de la entropía del sistema.\n",
    "\n",
    "**Formación de Ondas de Choque:**\n",
    "\n",
    "Las ondas de choque se forman comúnmente bajo las siguientes condiciones:\n",
    "\n",
    "* **Velocidad Supersónica:** Cuando un objeto se mueve a través de un fluido a una velocidad mayor que la velocidad del sonido (supersónico), perturba el medio tan rápidamente que las ondas sonoras generadas no pueden escapar hacia adelante. Esto resulta en la acumulación de una región de alta presión que se manifiesta como una onda de choque.\n",
    "\n",
    "* **Explosiones:** Las explosiones generan ondas de choque debido a la liberación repentina y violenta de energía, expandiendo los gases a velocidades supersónicas.\n",
    "\n",
    "* **Cambios Rápidos en el Flujo:** Cambios abruptos en el flujo de un fluido, como los cambios rápidos de dirección o velocidad debido a obstáculos o condiciones cambiantes, también pueden generar ondas de choque."
   ]
  },
  {
   "cell_type": "code",
   "execution_count": null,
   "metadata": {
    "cellView": "form",
    "colab": {
     "base_uri": "https://localhost:8080/",
     "height": 521
    },
    "executionInfo": {
     "elapsed": 298,
     "status": "ok",
     "timestamp": 1715441555364,
     "user": {
      "displayName": "Alejandro Marin Marin",
      "userId": "12754408092033862019"
     },
     "user_tz": 300
    },
    "id": "aQyCWDroR5S_",
    "outputId": "503e3bb9-140c-4fed-e570-f359b687cb15"
   },
   "outputs": [
    {
     "data": {
      "text/html": [
       "\n",
       "<img src=\" https://pardtrekskonocimiento.com/wp-content/uploads/2020/10/ONDAS-DE-CHOQUE-EN-EXPLOSIONES-PARDTREKSKONOCIMIENTO-02.gif \" alt=\"GIF\" style=\"width: 600px; height: 500px;\">\n"
      ],
      "text/plain": [
       "<IPython.core.display.HTML object>"
      ]
     },
     "metadata": {},
     "output_type": "display_data"
    }
   ],
   "source": [
    "# @title # <font color='black'>Ondas de choque como consecuencia de una explosion\n",
    "from IPython.display import HTML\n",
    "\n",
    "# URL del GIF que deseas mostrar\n",
    "url_gif = \" https://pardtrekskonocimiento.com/wp-content/uploads/2020/10/ONDAS-DE-CHOQUE-EN-EXPLOSIONES-PARDTREKSKONOCIMIENTO-02.gif \"\n",
    "\n",
    "# Ancho y alto deseados del GIF (en píxeles)\n",
    "ancho_gif = 600\n",
    "alto_gif = 500\n",
    "\n",
    "# Código HTML para mostrar el GIF con tamaño modificable\n",
    "html_gif = f\"\"\"\n",
    "<img src=\"{url_gif}\" alt=\"GIF\" style=\"width: {ancho_gif}px; height: {alto_gif}px;\">\n",
    "\"\"\"\n",
    "\n",
    "# Mostrar el GIF en el notebook\n",
    "display(HTML(html_gif))"
   ]
  },
  {
   "cell_type": "markdown",
   "metadata": {
    "id": "WXSjHOpzPoJ4"
   },
   "source": [
    "## *Número de Mach*:\n",
    "\n",
    "El número de Mach en el contexto de las ondas de choque es un concepto fundamental en la dinámica de fluidos y aerodinámica, relacionado con la velocidad de un objeto que se mueve a través de un fluido comparada con la velocidad del sonido en ese mismo fluido.\n",
    "\n",
    "El número de Mach se define como:\n",
    "\n",
    "$$Mach = \\frac{v}{c}$$\n",
    "\n",
    "\n",
    "Donde $v$ es la velocidad del fluido y $c$ es la velocidad del sonido.\n",
    "\n",
    "En las ondas de choque, el número de Mach es particularmente significativo:\n",
    "\n",
    "* **Mach Subsónico (Mach < 1):** La velocidad del objeto es menor que la velocidad del sonido. En este caso, las perturbaciones causadas por el objeto pueden propagarse hacia adelante desde este, alertando a los medios circundantes de su presencia, lo que permite que el flujo de aire se ajuste de manera suave.\n",
    "\n",
    "* **Mach Transónico (Mach ≈ 1):** La velocidad del objeto es aproximadamente igual a la velocidad del sonido. En este rango, el flujo de aire experimenta cambios bruscos y pueden formarse ondas de choque debido a la acumulación y condensación de ondas de presión.\n",
    "\n",
    "* **Mach Supersónico (Mach > 1):** La velocidad del objeto es mayor que la velocidad del sonido. El objeto se mueve tan rápido que las ondas de presión no pueden propagarse hacia adelante rápidamente suficiente y, como resultado, se forma una onda de choque delante del objeto. Esta onda de choque se presenta como una discontinuidad abrupta en las propiedades del fluido como la presión, temperatura y densidad.\n",
    "\n",
    "* **Mach Hipersónico (Mach > 5):** A velocidades mucho mayores que la velocidad del sonido, los fenómenos térmicos y químicos comienzan a ser significativos en el comportamiento de las ondas de choque, afectando la aerodinámica y la termodinámica del flujo."
   ]
  },
  {
   "cell_type": "code",
   "execution_count": null,
   "metadata": {
    "cellView": "form",
    "colab": {
     "base_uri": "https://localhost:8080/",
     "height": 521
    },
    "executionInfo": {
     "elapsed": 271,
     "status": "ok",
     "timestamp": 1715437718975,
     "user": {
      "displayName": "Alejandro Marin Marin",
      "userId": "12754408092033862019"
     },
     "user_tz": 300
    },
    "id": "ysJ7kj7WDSrm",
    "outputId": "feb9d028-8a2d-4541-fc83-bdb7d170c22d"
   },
   "outputs": [
    {
     "data": {
      "text/html": [
       "\n",
       "<img src=\" https://uvn-brightspot.s3.amazonaws.com/assets/vixes/btg/curiosidades.batanga.com/files/efecto%20doppler.gif \" alt=\"GIF\" style=\"width: 800px; height: 500px;\">\n"
      ],
      "text/plain": [
       "<IPython.core.display.HTML object>"
      ]
     },
     "metadata": {},
     "output_type": "display_data"
    }
   ],
   "source": [
    "# @title # <font color='red'>Efecto dopler Vf=Vs\n",
    "from IPython.display import HTML\n",
    "\n",
    "# URL del GIF que deseas mostrar\n",
    "url_gif = \" https://uvn-brightspot.s3.amazonaws.com/assets/vixes/btg/curiosidades.batanga.com/files/efecto%20doppler.gif \"\n",
    "\n",
    "# Ancho y alto deseados del GIF (en píxeles)\n",
    "ancho_gif = 800\n",
    "alto_gif = 500\n",
    "\n",
    "# Código HTML para mostrar el GIF con tamaño modificable\n",
    "html_gif = f\"\"\"\n",
    "<img src=\"{url_gif}\" alt=\"GIF\" style=\"width: {ancho_gif}px; height: {alto_gif}px;\">\n",
    "\"\"\"\n",
    "\n",
    "# Mostrar el GIF en el notebook\n",
    "display(HTML(html_gif))"
   ]
  },
  {
   "cell_type": "code",
   "execution_count": null,
   "metadata": {
    "cellView": "form",
    "colab": {
     "base_uri": "https://localhost:8080/",
     "height": 521
    },
    "executionInfo": {
     "elapsed": 300,
     "status": "ok",
     "timestamp": 1715438338657,
     "user": {
      "displayName": "Alejandro Marin Marin",
      "userId": "12754408092033862019"
     },
     "user_tz": 300
    },
    "id": "lsxwFeyTFe44",
    "outputId": "97b7df53-e52a-4850-f126-563d08aca511"
   },
   "outputs": [
    {
     "data": {
      "text/html": [
       "\n",
       "<img src=\" https://uvn-brightspot.s3.amazonaws.com/assets/vixes/btg/curiosidades.batanga.com/files/efecto%20doppler2.gif \" alt=\"GIF\" style=\"width: 800px; height: 500px;\">\n"
      ],
      "text/plain": [
       "<IPython.core.display.HTML object>"
      ]
     },
     "metadata": {},
     "output_type": "display_data"
    }
   ],
   "source": [
    "# @title # <font color='red'>Efecto dopler del sonido Vf<Vs\n",
    "from IPython.display import HTML\n",
    "\n",
    "# URL del GIF que deseas mostrar\n",
    "url_gif = \" https://uvn-brightspot.s3.amazonaws.com/assets/vixes/btg/curiosidades.batanga.com/files/efecto%20doppler2.gif \"\n",
    "\n",
    "# Ancho y alto deseados del GIF (en píxeles)\n",
    "ancho_gif = 800\n",
    "alto_gif = 500\n",
    "\n",
    "# Código HTML para mostrar el GIF con tamaño modificable\n",
    "html_gif = f\"\"\"\n",
    "<img src=\"{url_gif}\" alt=\"GIF\" style=\"width: {ancho_gif}px; height: {alto_gif}px;\">\n",
    "\"\"\"\n",
    "\n",
    "# Mostrar el GIF en el notebook\n",
    "display(HTML(html_gif))"
   ]
  },
  {
   "cell_type": "code",
   "execution_count": null,
   "metadata": {
    "colab": {
     "base_uri": "https://localhost:8080/",
     "height": 721
    },
    "executionInfo": {
     "elapsed": 10,
     "status": "ok",
     "timestamp": 1717856007571,
     "user": {
      "displayName": "Alejandro Marin Marin",
      "userId": "12754408092033862019"
     },
     "user_tz": 300
    },
    "id": "aFYIGemFMWv5",
    "outputId": "e8191e3d-b061-40be-e78d-e4a73ede9d1c"
   },
   "outputs": [
    {
     "data": {
      "text/html": [
       "\n",
       "        <iframe\n",
       "            width=\"1500\"\n",
       "            height=\"700\"\n",
       "            src=\"https://www.vascak.cz/data/android/physicsatschool/template.php?f=kv_razova_vlna&l=es\"\n",
       "            frameborder=\"0\"\n",
       "            allowfullscreen\n",
       "            \n",
       "        ></iframe>\n",
       "        "
      ],
      "text/plain": [
       "<IPython.lib.display.IFrame at 0x7a9424426bc0>"
      ]
     },
     "execution_count": 1,
     "metadata": {},
     "output_type": "execute_result"
    }
   ],
   "source": [
    "# @title  # <font color='black'> Animacion ondas de choque\n",
    "from IPython.display import IFrame\n",
    "\n",
    "# URL del enlace que quieres mostrar\n",
    "url = \"https://www.vascak.cz/data/android/physicsatschool/template.php?f=kv_razova_vlna&l=es\"\n",
    "\n",
    "# Mostrar el contenido del enlace en un iframe\n",
    "IFrame(url, width=1500, height=700)"
   ]
  },
  {
   "cell_type": "code",
   "execution_count": null,
   "metadata": {
    "cellView": "form",
    "colab": {
     "base_uri": "https://localhost:8080/",
     "height": 721
    },
    "executionInfo": {
     "elapsed": 204,
     "status": "ok",
     "timestamp": 1717856085005,
     "user": {
      "displayName": "Alejandro Marin Marin",
      "userId": "12754408092033862019"
     },
     "user_tz": 300
    },
    "id": "7TQ6HK3QMwOX",
    "outputId": "fc0a26a9-ae82-4a97-ef49-433a8966f4e1"
   },
   "outputs": [
    {
     "data": {
      "text/html": [
       "\n",
       "        <iframe\n",
       "            width=\"1500\"\n",
       "            height=\"700\"\n",
       "            src=\"https://www.vascak.cz/data/android/physicsatschool/template.php?f=kv_doppler&l=es\"\n",
       "            frameborder=\"0\"\n",
       "            allowfullscreen\n",
       "            \n",
       "        ></iframe>\n",
       "        "
      ],
      "text/plain": [
       "<IPython.lib.display.IFrame at 0x7a9424427220>"
      ]
     },
     "execution_count": 2,
     "metadata": {},
     "output_type": "execute_result"
    }
   ],
   "source": [
    "# @title  # <font color='black'> Animacion efecto doppler\n",
    "from IPython.display import IFrame\n",
    "\n",
    "# URL del enlace que quieres mostrar\n",
    "url = \"https://www.vascak.cz/data/android/physicsatschool/template.php?f=kv_doppler&l=es\"\n",
    "\n",
    "# Mostrar el contenido del enlace en un iframe\n",
    "IFrame(url, width=1500, height=700)"
   ]
  },
  {
   "cell_type": "markdown",
   "metadata": {
    "id": "3LW5FsGrHblO"
   },
   "source": [
    "La formula del efecto dopler\n",
    "\n",
    "$${{{f_o}} \\over {c \\pm {v_o}}} = {{{f_f}} \\over {c \\pm {v_f}}}$$"
   ]
  }
 ],
 "metadata": {
  "colab": {
   "provenance": []
  },
  "kernelspec": {
   "display_name": "Python 3",
   "name": "python3"
  },
  "language_info": {
   "name": "python"
  }
 },
 "nbformat": 4,
 "nbformat_minor": 0
}
