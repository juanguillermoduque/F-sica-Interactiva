{
 "cells": [
  {
   "cell_type": "markdown",
   "metadata": {
    "id": "Fr5pAiW1RwJN"
   },
   "source": [
    "Integrantes:\n",
    "- Juan Guillermo Duque Montoya\n",
    "- Alejandro Marin Marin"
   ]
  },
  {
   "cell_type": "markdown",
   "metadata": {
    "id": "0U70oMJu6Io-"
   },
   "source": [
    "# *Onda:*\n",
    "Una perturbación que se propaga a través de un medio o el vacío, transportando energía sin trasladar materia. Las ondas pueden ser mecánicas (sonido, ondas en una cuerda) o electromagnéticas (luz, microondas).\n",
    "\n",
    "## *Interferencia:*\n",
    "La superposición de dos o más ondas que se encuentran en el mismo punto del espacio y tiempo. Dependiendo de la fase relativa de las ondas, la interferencia puede ser constructiva o destructiva.**\n",
    "\n",
    "## *Tipos de Interferencia:*\n",
    "\n",
    "1. *Interferencia Constructiva:*\n",
    "\n",
    "* Ocurre cuando las crestas (puntos máximos) de dos ondas se encuentran en fase, es decir, coinciden en el tiempo y en el espacio.\n",
    "\n",
    "* La amplitud resultante es la suma de las amplitudes de las ondas individuales.\n",
    "Fórmula:\n",
    "\n",
    "$${A_{total}} = {A_1} + {A_2}$$\n",
    "\n",
    "* Ejemplo: Dos altavoces emitiendo el mismo sonido en fase, haciendo que el sonido sea más fuerte.\n",
    "\n",
    "2. *Interferencia Destructiva:*\n",
    "\n",
    "* Ocurre cuando una cresta de una onda se encuentra con un valle (punto mínimo) de otra onda, es decir, están desfasadas en\n",
    "π radianes (180 grados).\n",
    "\n",
    "* La amplitud resultante es la resta de las amplitudes de las ondas individuales.\n",
    "Fórmula:\n",
    "\n",
    "$${A_{total}} = {A_1} - {A_2}$$\n",
    "\n",
    "* Ejemplo: Ruido de cancelación de auriculares, donde el sonido externo se cancela con una onda opuesta generada por el dispositivo."
   ]
  },
  {
   "cell_type": "code",
   "execution_count": null,
   "metadata": {
    "cellView": "form",
    "colab": {
     "base_uri": "https://localhost:8080/",
     "height": 621
    },
    "executionInfo": {
     "elapsed": 213,
     "status": "ok",
     "timestamp": 1716040042738,
     "user": {
      "displayName": "Alejandro Marin Marin",
      "userId": "12754408092033862019"
     },
     "user_tz": 300
    },
    "id": "oNofMd7U6UCN",
    "outputId": "84def340-ded4-4b5e-ad9e-6bd6b7aca5ec"
   },
   "outputs": [
    {
     "data": {
      "text/html": [
       "\n",
       "        <iframe\n",
       "            width=\"800\"\n",
       "            height=\"600\"\n",
       "            src=\"https://phet.colorado.edu/sims/html/wave-interference/latest/wave-interference_all.html?locale=es\"\n",
       "            frameborder=\"0\"\n",
       "            allowfullscreen\n",
       "            \n",
       "        ></iframe>\n",
       "        "
      ],
      "text/plain": [
       "<IPython.lib.display.IFrame at 0x7e77cdd20f40>"
      ]
     },
     "execution_count": 3,
     "metadata": {},
     "output_type": "execute_result"
    }
   ],
   "source": [
    "# @title Simulacion\n",
    "from IPython.display import IFrame\n",
    "\n",
    "# URL de la simulación\n",
    "url_simulacion = \"https://phet.colorado.edu/sims/html/wave-interference/latest/wave-interference_all.html?locale=es\"\n",
    "\n",
    "# Mostrar la simulación en un iframe dentro del notebook\n",
    "IFrame(url_simulacion, width=800, height=600)"
   ]
  },
  {
   "cell_type": "code",
   "execution_count": null,
   "metadata": {
    "colab": {
     "base_uri": "https://localhost:8080/",
     "height": 821
    },
    "executionInfo": {
     "elapsed": 56,
     "status": "ok",
     "timestamp": 1716040238702,
     "user": {
      "displayName": "Alejandro Marin Marin",
      "userId": "12754408092033862019"
     },
     "user_tz": 300
    },
    "id": "hpFgf08g8yUo",
    "outputId": "7e16c36d-1298-4c48-eeb6-96f2d036ea18"
   },
   "outputs": [
    {
     "data": {
      "text/html": [
       "\n",
       "        <iframe\n",
       "            width=\"1000\"\n",
       "            height=\"800\"\n",
       "            src=\"https://www.geogebra.org/classic/ctas6deg\"\n",
       "            frameborder=\"0\"\n",
       "            allowfullscreen\n",
       "            \n",
       "        ></iframe>\n",
       "        "
      ],
      "text/plain": [
       "<IPython.lib.display.IFrame at 0x7e77cdd215a0>"
      ]
     },
     "execution_count": 8,
     "metadata": {},
     "output_type": "execute_result"
    }
   ],
   "source": [
    "# @title Simulacion Interferencia de Ondas\n",
    "from IPython.display import IFrame\n",
    "\n",
    "# URL de la simulación\n",
    "url_simulacion = \"https://www.geogebra.org/classic/ctas6deg\"\n",
    "\n",
    "# Mostrar la simulación en un iframe dentro del notebook\n",
    "IFrame(url_simulacion, width=1000, height=800)"
   ]
  }
 ],
 "metadata": {
  "colab": {
   "provenance": []
  },
  "kernelspec": {
   "display_name": "Python 3",
   "name": "python3"
  },
  "language_info": {
   "name": "python"
  }
 },
 "nbformat": 4,
 "nbformat_minor": 0
}
