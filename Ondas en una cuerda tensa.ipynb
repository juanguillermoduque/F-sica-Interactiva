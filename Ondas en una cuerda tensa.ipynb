{
 "cells": [
  {
   "cell_type": "markdown",
   "metadata": {
    "id": "_GtO1M3IK2RZ"
   },
   "source": [
    "INTEGRANTES\n",
    "\n",
    "- Juan Guillermo Duque Montoya\n",
    "- Alejandro Marin Marin"
   ]
  },
  {
   "cell_type": "markdown",
   "metadata": {
    "id": "xc4i9UnXYUF3"
   },
   "source": [
    "**ONDAS ESTACIONARIAS**\n",
    "\n",
    "Las ondas armónicas estacionarias son un tipo de onda que se caracteriza por tener puntos fijos donde la amplitud es siempre cero, conocidos como nodos, y puntos donde la amplitud alcanza su máximo, llamados antinodos. Este fenómeno ocurre cuando dos ondas del mismo tipo y frecuencia se propagan en direcciones opuestas en el mismo medio, interfiriendo de manera constructiva y destructiva.\n",
    "\n",
    "En una onda estacionaria, parece que la onda no se mueve hacia adelante o hacia atrás, sino que oscila en posición fija. Esto se debe a la superposición de las dos ondas que viajan en direcciones contrarias. Las ondas armónicas estacionarias son importantes en varios campos de la física y la ingeniería, especialmente en la acústica y en la física de ondas electromagnéticas, como en las cavidades resonantes de los láseres o en las cuerdas de los instrumentos musicales.\n",
    "\n",
    "Por ejemplo, en una cuerda fijada en ambos extremos, como en una guitarra, las ondas armónicas estacionarias producen los diferentes tonos musicales. La frecuencia de las ondas depende de la longitud de la cuerda, su masa, su tensión y el modo de vibración (primer armónico, segundo armónico, etc.).\n",
    "\n",
    "<font color=\"blue\">Una onda estacionaria se forma por la interferencia de dos ondas de la misma naturaleza con igual amplitud, longitud de onda y frecuencia, que avanzan en sentido opuesto a través de un medio.</font>\n",
    "\n",
    "\n",
    "**ONDAS EN UNA CUERDA TENSA**\n",
    "\n",
    "Las ondas en una cuerda tensa son un tipo de onda mecánica que se produce cuando la cuerda vibra transversalmente, es decir, de lado a lado, debido a una perturbación inicial. La perturbación puede ser causada por un pellizco, un golpe o cualquier otro tipo de desplazamiento de la cuerda de su posición de equilibrio.\n",
    "\n",
    "## *Características:*\n",
    "\n",
    "Propagación: La perturbación inicial se transmite a lo largo de la cuerda, generando un movimiento ondulatorio que se propaga en ambas direcciones desde el punto de origen.\n",
    "Frecuencia y longitud de onda: La frecuencia de la onda es la cantidad de veces que la cuerda completa un ciclo de vibración en un segundo, mientras que la longitud de onda es la distancia entre dos puntos consecutivos de la cuerda que se encuentran en la misma fase del movimiento.\n",
    "Velocidad de onda: La velocidad de propagación de la onda depende de la tensión de la cuerda y de su masa por unidad de longitud.\n",
    "\n",
    "\n",
    "**Aplicaciones:**\n",
    "\n",
    "Las ondas en una cuerda tensa tienen diversas aplicaciones en diferentes campos, como:\n",
    "\n",
    "Música: Las cuerdas de los instrumentos musicales, como guitarras y violines, vibran generando ondas que producen el sonido.expand_more\n",
    "Comunicaciones: En el pasado, las ondas en cuerdas tensas se utilizaban para transmitir señales de telégrafo.exclamation\n",
    "Sensores: Las ondas en cuerdas tensas se pueden utilizar para construir sensores que detectan vibraciones o cambios en la tensión de la cuerda."
   ]
  },
  {
   "cell_type": "code",
   "execution_count": null,
   "metadata": {
    "colab": {
     "base_uri": "https://localhost:8080/",
     "height": 643
    },
    "executionInfo": {
     "elapsed": 10,
     "status": "ok",
     "timestamp": 1717809521326,
     "user": {
      "displayName": "Alejandro Marin Marin",
      "userId": "12754408092033862019"
     },
     "user_tz": 300
    },
    "id": "qtDE4gXMbOK1",
    "outputId": "67d4dcd0-c378-447b-b4e1-4ca73402c52b"
   },
   "outputs": [
    {
     "data": {
      "text/html": [
       "<iframe src=\"https://www.geogebra.org/classic/qxcz7dax?embed\" width=\"1200\" height=\"600\" allowfullscreen style=\"border: 1px solid #e4e4e4;border-radius: 4px;\" frameborder=\"0\"></iframe>\n"
      ],
      "text/plain": [
       "<IPython.core.display.HTML object>"
      ]
     },
     "metadata": {},
     "output_type": "display_data"
    }
   ],
   "source": [
    "# @title Ondas en una cuerda tensa\n",
    "%%html\n",
    "<iframe src=\"https://www.geogebra.org/classic/qxcz7dax?embed\" width=\"1200\" height=\"600\" allowfullscreen style=\"border: 1px solid #e4e4e4;border-radius: 4px;\" frameborder=\"0\"></iframe>"
   ]
  },
  {
   "cell_type": "code",
   "execution_count": null,
   "metadata": {
    "cellView": "form",
    "colab": {
     "base_uri": "https://localhost:8080/",
     "height": 625
    },
    "executionInfo": {
     "elapsed": 476,
     "status": "ok",
     "timestamp": 1717811717898,
     "user": {
      "displayName": "Alejandro Marin Marin",
      "userId": "12754408092033862019"
     },
     "user_tz": 300
    },
    "id": "vOLLTuYQjkWK",
    "outputId": "5f41d615-7583-44a7-dffe-9195fa12b84b"
   },
   "outputs": [
    {
     "data": {
      "text/html": [
       "<iframe src=\"https://phet.colorado.edu/sims/html/wave-on-a-string/latest/wave-on-a-string_es.html\"\n",
       "        width=\"800\"\n",
       "        height=\"600\"\n",
       "        allowfullscreen>\n",
       "</iframe>\n"
      ],
      "text/plain": [
       "<IPython.core.display.HTML object>"
      ]
     },
     "metadata": {},
     "output_type": "display_data"
    }
   ],
   "source": [
    "# @title Ondas en una cuerda tensa\n",
    "%%html\n",
    "<iframe src=\"https://phet.colorado.edu/sims/html/wave-on-a-string/latest/wave-on-a-string_es.html\"\n",
    "        width=\"800\"\n",
    "        height=\"600\"\n",
    "        allowfullscreen>\n",
    "</iframe>"
   ]
  },
  {
   "cell_type": "markdown",
   "metadata": {
    "id": "rV1WKguhkCWR"
   },
   "source": [
    "**Grafica cuerda tensa**\n",
    "\n",
    "\n",
    "![image.png](data:image/png;base64,iVBORw0KGgoAAAANSUhEUgAAAWEAAADSCAYAAACb1nG4AAAAAXNSR0IArs4c6QAAAARnQU1BAACxjwv8YQUAAAAJcEhZcwAADsMAAA7DAcdvqGQAAD01SURBVHhe7Z0LtBXVmaD3lRZF0AtCIBBoLpgBH9Cg6e4g9iygSauZKGDGR7R7IgTIJOl0LmjPmkTJ3EsScfIALumJmQwYrrPiiziLl93GKBG7I5CO8YIgCOFxEURFkIc8lETP7G+f2py6devUeVTVOXXO+b+1ap1Ttatq712nzl9//fv//12X0ihBEAShLJzjfAqCIAhlQISwIAhCGREhLAiCUEZECAuCIJSRupZUKnWJs+LHLr0ElUPQPqf1ckQvA8yaP2HrgLjLQepIk4Q6Duill166mTV/KqGOXOVQCf0oRR0Q9hxJ6Een8tW4RwSQqxyC9jmkl3Xpr1kJWwfEXQ5SR5ok1ME9xb0VRCXUkascKqEfpagDwp4jCf3wlos5QhAEoYyIEBYEQSgjsQvh/zx+vLqlocFZ8+fE0aNq7dq1HRaw39vb2826IAhCtRGrEG5paVHbtAB9fe9e1dra6mztzEkthNl3woQJasqUKapnz55mOwKY7YIgCNVKbEIY7bW5uVk94AjfWbNmqaNa2PrRT2vKU6dONd9Hjx5tFuAcK1asUA05NGlBEIRKJTYhjFBlGT9+vFnnE0GcDTRg2Lhxo/lEcw7aXxAEoRqIRQhjQrCasIVtaLXW3uvHuHHj1LFjx8x+HG81YkEQhGql7r5UKvVnzoofL+slqBzc+7ylhWejFp73akE6Umu/J/S22+vq8EdWK7UgXqWXB/U+buzxj2ih/ejcuWqEFsb3e4R1rnbEXQ5SR5ok1IHDez+99DBr/lRCHbnKoRL6UYo6IOw5ktCPTuVhHY/BvY/WZlONjY3OWtrxWVeTXtGMGjUq1dTU5KylscdTxr7Lly93tmQI286w5SB1pElCHRKskSEJ/ZBgjQyFlkdujsC26zZDeMHW62dmYNBu06ZNqr6+/qx9WBAEodqJXAgzmGZdzPxAAPsJWWsrFjuwIAi1RGzeEYWwe+NGMxDX1NRkBLT1kBAEQah2EiGEh2rtFw0aMwafog0LglArJEIIC4Ig1CoihAVBEMpI5H7CXtx+wtkIWwfEXQ5SR5ok1CF+whmS0A/xE85QcHlYnzcI2gefO11NeiULYeuAuMtB6kiThDrETzhDEvohfsIZCi0Xc4QgCEIZiVUIE4AxXQIvBEEQshKbEMbXF1czJvoUBEEQ/IlFCJMx7corrzQ+v4+sWOFsFQRBELxEKoQxP5BDGCHc1tYm+YAFQRByEJkQxvxA4nbCj60pQhAEQQgmEiH8bGurEcDkfSART1ACH0EQBCFDJMEapKf8REODSeLuRYI1MkgdGcKWS7BGhiT0Q4I1MhRcHtbxGIL2wfFZV5NeyULYOiDucpA60iShDgnWyJCEfkiwRoZCy2NzUQMG6r7mzKIsCIIgdCY2IWwH5w5lmeZeEARBED9hQRCEshKpEBY/YUEQhMKITAiLn7AgCELhRCKExU9YEAShOMRP2CEJbQCpI02ucvETzpCEfoifcIaCy8P6vEHQPvjc6WrSK1kIWwfEXQ5SR5ok1CF+whmS0A/xE85QaHlsLmogfsKCIAjBxCaExU9YEAQhN7EIYfETFgRByI9IhbD4CQuCIBRGZEJY/IQFQRAKJxIhLH7CgiAIxRGZJrxixQrV3NzsrAmCIAj5EEmwRtA+EqyRQerIELZcgjUyJKEfEqyRoeDysI7HELTP9xYulGANB6kjQ9hyCdbIkIR+SLBGhkLLY3FRAzwlsBMvamlxtgiCIAheYhHCDM41NDSY5fmNG52tgiAIgpfIhTC+wXhJ4CtMYp9q8ZQ4euqP6tl1h8ynIAhCVEQmhPEPxjcYLRg/YYI2qoEVG4+qqa3tqtfsTWrRQ3u1EP7AKREEQQhPJEIYP2EEMDZgBDBmiEpm7fZ3jeDtOWujmrVsn+rZrYsaNbCbmnh1b9XQ5zxnL0EQhPBEpgnjJ4wJolLZve+UmvX4PtVwz2Y15ce7jOBde/cw1T5vpJoyuqdqP3xGzbh1oLN3/rQfet8I9ebVB9Riff7x87cbAR815TSTiIlGEIonEiH8qalTjRZcaSAgW9a8pUZ/e6u6Z/4OdfT0B6rl1kHqaMto1XLbIDV60AVmv+YnD6hZE/uqHhf8iVn3A0G7YeNRI2ynPLDTnLPuv/5OjV+wwxwPfft0Vc03DFAPrT9s1i0IMYQzpg8ENcfmC32gnrU78MgOhn059416f+oqBPrFm4GbQuoWBMGf2IM1nmptVQ9Mm5aYYI0TWuAhLNdoQbhFC49PjqpXY7Sme6FePukjZBmMe/TJN9SiOZepV/T6BftOq937T6mTpz5Qm3e8qw5qDZllxLAe6gOtPSO4h+qlb++u5tONbQNCcPVPPmG20R4eAHfcOMC0g33u1eWNdw5Wnxrbx+zjxttPjr999ib16MJR5iGR6zp8DQF/QRf1w7uHO1s643eOt7TAPakfUvTJlnvrdhPUDo5bvOagmq37nI1c/ZBgjQxJ6IcEa2QouDys4zH47XPkyJHU5MmTUx8bPDgRwRqNL7ydmvyj36fUF19MjfrWK6mFz76ZOnLyD05p9uPZd/A3XjbHdW9sS437waupxsdeSzWtej313KvHU3vefs/ZM/82ci4L56MOy6LXTppytnNu6lnediS1VLf/zqV7zp6DMrvNHs+2GbpfbKevXugv52YfYD/6wnb2pz9AHXxnadPtYbH9hSU+dQPb2Iftj+pzco1ZOJ7+UA/7cD376gVsP9znh1zXUoI1MiShHxKskaHQ8shd1MCdRa3cfsKtWpPlNRptdvzwC9We+0aojd+8XM2a2E/1DDAvWFqnNqjWOxtUSmuuj7WMVmu1BompollrcZwvzEAdZojntTY+ftiFzhZltGoYPTCtRc/V7W4//L4xH1gzBqaP0d/ZZmzVa7U2bo/H9NGv93lqo9bW/bAmiDGj0m6DmBE2aq2+VZ+X75wLWlrbTZ1sN2YIreHTjp5ag6buRp+6uc6YcziO7WjGLVrbbT90RpcdNv2kXey/V/dx3l3DTP8Z+ORc1MWxglBrRC6E8Q22Cd0ZrCu3n3CDFkrjh/Uwwg0BgoAoZCBp475T5hiOZfAuSqxQbOjT1XwCppJ6LfSwQVuhOPXq3uZz8qh684kdm224yyHQeBiYh40+DpMGxyHYvCBoB/fuqvo5Dw72Q9gjGI9pAWqEoT7PW1oYTh3bxzyAVnzl40ZAchymFurGS8RdN9do2kN7Tf30acWXLzHmC1tO/+iTaac+F54mtMEOUCKsp+gHA3UKQq0RmRC2Cd0RvklK6M4fH0GyRGvAfOcPj88vg2f5DE4hNNiPwTU0RAaiGNxiIA0tEaGFgA6D1XoZ6MJW3XLrQKNhIzTH6QcIGjvfaT/2VL5b7RFGa6FGG9mGEN+0//TZQUU3CF2ruVIXQpJj2I6QNR4h+txDnfZYODfH8fCiHEHvrZvjEaJc6wb9HXs5mPPr68MndXLc1LHph8rKTcfMdt4qmm/sb7YJQq0RiRDevTGT0N0GbSQNNC9MEJgiMEkgpIwP8KyNRiPbnEWQ4s2AexomiR/qYzFLoCGyHRBKCGiE8+f0uRDOuLqhMSJ8EDzZQGihFVpBj2vcpL/ue1YjtBot50BT5dWe13zMApwfbRThhxkAjZ8HjNXW3UElCE/2R+giaNOC/N2z2qk1X6TP01Wt+tVB84Bh4ViEuoW6V3aqu6s5N/vTD2DQ02ruXCPOw7Hsx7G0gePpO23jGgtCLVKHkfgGZ8WPJ/USVA6TtdZ7ZU+t0fjkE0Zf6lNXx8hceoMP+dSRax+/coSX/XPv0n/46VoQIygQwGhwaJu8SmOzXKKFQR8tJNKvxb07aJL2tflmLXyD2vCYFiwf1QINOysC03zq+hE8aLTvaaF3vT4v9lWEuYU2IJgQZlt0m3L1c4TuFwKNYxCCtBUhR12v6nNcqj/9NGFL6+lX1M1dB6oeXerVW2f2qTVHnlB9zx2oPnXxLab8fv3wuF2fx9q7aR/Cm3Wu6QZd9xhX3WCvNUIdsv1enItjbDkPKvrtta3n+r3X62WYXtI6tT+5zuFXTj94MNCm4fphGEcdbnKVQ9hzhLlW9v7Yob9/udfNql/XQWq3vn+6d7nIfLfE9Xt4CXuOXOWl6Ie3PBJNeGZLS6ISuiOQAE13woId5tO+HoMxIbjW0TYZdDM+wlqwjJ+/w5gcjIam/5TNN/Q3g2K5bMJoqQghNG4G7xjEI9gDgYvmbF3Olt452HxaEEoc5xVE2WA/TBR8WiHIOt9pg93m5ZG3Fqrp28aqp9tnqoNn9jtbO8Kf7uUPr1M7z1mlTnxwzGzjfLZtfFKHu25g3QrgILxtK6TfUYPdmnsB0xQPBzfWbAO85bAP90Mt8Ow7PzdLNtYc+bm6Z9dt6hu7bnW2CGGoa9Eq6l86K378u16CyiFonye0gF4we7ZaF6AJh60DKO+mtar/++QBo5H9XAs/N9mO/5V+fb5fa7rDtab6TS2EMVsgxJ/W27Gv/mbTMWMy4IW8TmuASwP8a/NpYxT9LKT8fS1ID5/eqgb0uNpoMHCo2xWB53hc/wGPHnpQffjBcfXly9Y5WzOUox9etunlY3q5yKz5k+sc//3xferM4feNjfs6vXi9ZWwdHzr3A37SX9APWO6LIfqe4F6Ju58Q9hz5Xquh+v741wNz1X79gP5Pg+arj+t7xhJUx0tvP6heOv60+vSAJvUxfW9lI2w/IOw5cpVHcV8VWl73qBbCf+Os+PGMXoLKwW8fBupmTp2qdmzcqF7fu1cdChDCxdbhZpbWUlavfsN4FUzziW4LOh775PRl+9V1g7qZP5kbyp7TfzrsrdhGX7xvRFbNLVcbo+hnIeVoM8v0n2pYt8vVP16yzNlaeB1o0CO7j1EjnT9lruOh0Dq85Cp/US9D9XKxWfPH7xxovg/rt5pn9MO02Dp+qu+1ufpem3vrQPUx/XYTZz8h7DlyXSveeNZ3qVdDTqxXb+oH9l9cfLM6T6+7CaqDB/1jh36qntP3yU39m9Tkj0x3SjqShGuRq7zY+8pNweVhHY/Bu09bW1tq8ODBJlhj55EjsQZrEAhAEEDYfrjLCY5wB3JYoqwjG1HVsevUltTXd96SWn/0F86WDIXWwTlu23xF6uE3F5j1XMdDoXV4yVVeqFO9DUghUITfF8LUwTk4F0FAQYTtJ4Q9R1A/njm8zPy2T/zxqLPFn3zqeOX911Jv6iUbSbgW+fSj4oM1SuknbFyn5u8wo+9RwqAMngpeO2ElgFaC2WGofi28X2u/Y+qvc0qKh3PMu+Rxc15rJ640GMTEHr1xzmVmDCAsxmtl3kjf0PJKYfGBZrVEvynd27C4k+ZbDAzU2cE6zl2p90qpqVg/YQQwXgu4i0Xxp3LDn5WAA+tZUSkgJFfvuk1tOP5LZ0t0INTnNCwxHhWVBPZ9FkxI+CPnEyVZKJwf10Q7IFwpdNe/5aJhT501M0XJxF63qPvaZ4ogzoOK9RPGxSwqrcYP/qxxnTsO8GpgxLpBa6139JvtbI2HAyfWq5Z9dzlryYY3mrgfptwreNbEkaI0DrhXgPvE7WYWJTy0Zw2aX3EP7XIQiRBe09pqpjRiVo24w5QZWMFMgGZTKtcmPxempIHfJiaDP49ZAAOeFiO6X20G7JLMI6tJQdqvk1tcHJi3p6983FlLLgzWPlqi380KeLRh0YizU1F+wgjgWcv8/VvjBJMHvsZ4SiQRNBs0DrSPUkFgR9wad1hID1qOtxkiJpNomtis32C2nFyvNdQFzpbSgE86pgnBn8gH5rxsjyiLmpn5QgtgZrsohWbjhtdNAi+8bm9JAG1084kNzlp5sK+3SQEhSJBNuSDgBzNI0sD2W2oBDCgHk/tMVy8m/M2pXMSa1P0RrR0/Oneu+b46IUnds5FvG36j/+C339jfVyBHVUe+58A2u/3Iz9UE1x8r6jr8cJfjjUEE3nWeEfYo6/AjW/JtkvAv0Q/rJfNGqN36N4qjDjd+5+CNiUT9kyb2VX3H9gnVBgh7rbbr34h+9Aywz4atQ5K6Zyi4PKzPG3j3IaH7uHHjUqNGjUo929YW2k+YxOMkEg8ibD/y7Se+pn4J0yGqOoJIYh34JH97z3RnLU3UdXjx8+ckQTxJ6/Edhzjq8BJ3PyHsORp33pLarH+jIMLWke+1wufcz3cdctUBYdsZVT+CKLQ8cnMEvsHMtszCQF1YTwnswCRU6X5BF2dLecE+jF+yzRZWDnBFS9KgmHVfKzcM1LbNuazk5qogmDOwnPZh7pNL+0xX/Us4XhBE364D1X17Z54NoRcitgnjG4yvMAEbLGE9JbDrkSwcO3BS7LHYh3GNI1F8uWjZd7fzLVlsOPa0WcqBtQMnSQCDSZBfRtc1Bk9HRRCwExU8sG/XbUrqPVwOIhHC+Amj8aL5MrUR7mpRkETNBmgXwrgco+B2cCOJngnl0nJ4K+FtifSeSWNWmd6ccAkr1wMxF9y7+BALaSIRwtZPGAGMGSIKuGkRcEkTwG7IF9y8+g1nrTT0Pv/yxN7A5dByuEds5CQPxqTBG1w53pz4DTYcT6YQBu6Vcr45JYlIhHDUfsIERtz04136D5aZHSKJMNsGGljY6Y3ywWo2Q/SrJTdwUimHlsPUSEmObuTNiXuZCQVKAffJlhMb1IwBTc6WZEKAEQ+LWg/kiHxgzsv+9sLtYWg2TTf0L1lEXLHQvrQGFv9rMIlWkqzZuOEhgftc3H8ubMDGLORJP5pEuEdIh1oKs8Tu97aaB2HSQ4bxWx7S7XK16tBPnS21Sd2XU6nUQGfFD+LTgsoh2z4vaA35X2anbZf3BfgJu48/ov9Y/7xsn/o7TwhornbEXQ7Z9jmtX4nf2HdadR1+YSx1vHdmn2p79Rp15aUvqENdB8VSh5uw5bBp313qvA+Oq0uzeE2EboO+5g/es0V98e5hqn8Wk1XYOt7WC8m9g1SBQurYqgXw/9MKxj/OG6G6OaaTXMdD0vrhR7F1nDz9inr/zH51sX7Dy1UHhG1nXP1wU3B5WJ838O6DnzC5hMkpHIWfMIRtZ9hyyLaP9U8N68sMfvvgV5lvLt8w/bBEUQf5aclT+/K7eF52JmwdX131emrcD1511vwJW0ccPqMLn32zQ67qXMdDvnWQy/cLW6921jKUwvc1bB3c47nqgLDtjLsfUGh55OYIBuesb7D7ez7YWYorDcwSd17dWz36ZDyDdOTzTXqeBi9Ez/FKjN0vDlavP6zudWa8riTiNJ1gXx1Tf62zVlksPjBXbQ+Y166aiVQI4xtMSstiErpj31v0q4NmtuNKhMlA40jwQ3LspOVmyBceHtiH47ANPzpvpLoqj4lFkwi2YTLzRQnZ0UiUg3dKJUK7azW3RCRC+IQroTvCt5iE7s1ai0SbTPpgXDZo95yIUxmS9WrNO0/Epk2WAnyGZ2y7JjJBjOdMqbwM4oJ5EFduOhZpelQ0YFKZVmr+XrLy9el2ecUqHGGIRAi3aAFsE7qjCRcDmmTLrUHm7MoAz46oXNYIOZ30kekVnRgbTTjKEXBSilY6eHQs1Pd6VMnmD+kHHVpwXAnaS8V1DUsqvg/FEIkQnqO13zAJ3cl8hSaZRGf7QmF+uuYno9HUxlx0nZrU5wvOWuWCPXtNBPY+Hm4b9502mmSlg204Kt9mstjtPr3VWatsVr79oFlqicgH5rzkyifMH4vUg9UCAgJBEfZVk9cypg6vhulh8Ad98LJ1zlrx4Gub1Mi4YuAe+cb87c5acWALBl7nq4Gh+q2JmT9qKYAjViHc0tKirrnySmfNH7RG8q5WCwiIsInn+WNVY4KTsDPwck0rad6/XNCfPfqBHSaA4+Af9quxCY+MKwQbwMFYSK0QS1J3BuqwE+/RWnDjihXqXi2IV2cJ1vjOAzvV32jt5pM5tJvIEyl7KKafXtzlzATSvVsX1c810JhvHZu3jTVzxQ330W4KaUM2wp6j2DpW7brVzE9H3wqtg5SQfft0VZMdF69SJN8uRR0/XvOW2rbusPrhNy93tnSmEvoRZR3v6rfArl0u8p2GP2w7S9mPbHQqD+t4DO592traTJAGwRoEbeD4rKtJF2ah0Dr8iLscCjkHTvneYIJ86lh6aouvw72l1P3wo9g6CNwggOPdPx4tqA4bDMOnpRICECCfcu6VILKdY+Frs81nEvoRdR3cI36BPmHbWep++OEtj9QcUYifMH7Ble5qFMTUq3sb23ChnhJ9ul0Rif00ifCqWYwfa6W7L+aCQbpCU6Jisir33IJxYicHrQXbcCRCuBg/Yf5YUbnoJBFsw2T3YtLHfMGnFnejaqaYwcZqcV8MotfsTUYxyRcGryo1MCMfonZtTDKRCOFC/YS52R5af9j8uaqZQt2QCN08UMXajaVl310my1o+cK9Ui/tiEGj6KCb5MqnP9KrxiMhGpYXqF0skQrhQP2FcjZbeObhqXy/dkAsjn3wYRMftOb1VDb/4ZmdL9dK366C8Q1THL9hRknzN5QaFJF8vCeu+WO1gvqoFQRyri1o20Gqmju3jrFU3owdekNfsGyc/OG5eL/1GhKsNAlAO6wdOrmmQmOQVxldojohCQCE52pI72RUCeMar1zhr1Q/9rfbgjViFMNrxJzzTHaHVRJ28JMkgQEyQgSNQskGym1rQbgCb8I2XPG7sfkGgGVa7ycoLmQSDWHXoQTWxV/W/LblZ8sbcqs4pEZsQZroj5p37gmeQjuCMJM8bFwdMgxTU51qcawsvEEwwQaPfK77y8Zp5Y7Ks2HQ08IFNEMPEXtVtC3ZDLgkeOgxEViuRB2u81d5uBupOHj2qZrW2qr6jR6vb6+pMsAYBDPfM36GWzBvRYQr7QuvwI+5yCHMO0lzu1n32K3/YFZyR9H5AVHW80T5D9dbCmL57eUxrwTcM69HhPnFTLcEa3vKVa95SG3Tf7797uLOl4z54z/AAc5OEfsRZB8Ebh05vNfMrhm1nOfth6VQe1vEY7D7Lly9P1dfXpxobG02gBuD4rKsx36HttZPOtwyF1JGNuMshzDmaVr2emrh0j7OW4ZnDyzoEZyS9HxBVHcym4BeYwswT3RvbfO8VSyUGIPjhLafvk3/0e2ctjd2HmTP8SEI/SlFHoUE+fiShH97ySMwR+AnjG4yvMAEb5Izw85TA3ajWTBEWgjfWrD/cyReUhCVJncI+brCDg3eAjqTnQwZ1q8l7hUFrzDBeam1Azgumq8Ydn3bWqouChTBTFv3ud79z1tJgfmA7C3ZgP7BzTX2o8JmXqwVGvydqQYzNzw2DU7ji1CpEB/oN0N1RgVMXRcnob2/tEEWHTbTWBuTc8B8hWRGmiWojbyE8adIk9Vd/9Vfqt7/9rXrsscfUOeeco372s5+ZMusn3ODxhHCDdoM2WMvMmtpgAjgsJG2vtdypfnAN3KPfzTcOUCNrwC0tF26/4Q3HflnVEXL58MmLrlV79HVIGrz9hyGnEGagDYFLJNyvf/1rNXPmTPX9739fffe731Wf//zn1eHDh509A+g9zIQoV1MawmLBRc9qOKu08MEcUevsee8V43oF5BMpJHy3Wpk6Vr81uYTwYyO21OSsE25mDmhKZDAT5lcUUCwBxZBTCM8cOlTdfPPN6q677nK2pLH5Ib73ve+ZTz9olPETPrxDzbpka9WHnuZDOoLuoEnAwtxxtWyKsDCDCJoewnduTDNWVxq8Nbbcmha6tToLsRceQu+e2Z84n2HkHPLwyiuvzCtvjpdAIXzrrbeaz2XLlplPN+eee675fPllHC46Q2MwUaCqL126VK148HvmiVHrYI5ACF+cGl6zA3JeGKAjF0Lr+sNq8qj6mghnzwUKC9fhpcMvq3UH5jpbBXKrJHHCA+Tdnj17jMybXqBWnNVP+OSxY+r2Xr3U5Z/9rPqfT3TOcn/49dfVtEGD1CRd+V8uWHDW780mdL+0Z88OtpKjensvfb4luqH9PLbjXH51ELlvnodStqGltV3dfkP/DgnfLVHVEURS63hk9QE1ctiFxh6c6/hq9RN2s3n7u6r1376lrrnuA/XZQQucrZ1JQj9KUQe89MEx9dtXRqo7Ln1BXehjnklCP36slc1/mT1bTWpsVDN9FM9Ox2fzafvmN7+ZqqurSzU/9ZSzpSPf/e53TfnPfvazs35vJHQfNWqU8RVuampytmagTFcpiyyy5Ln89b9dlRp4cz/fslpdRn33T1NDpvX3LUva4icH8/YTfuaZZ8znJ66/3nx6Wbx4sfn827/9W/NpE7rjoobZgbSWfug6Oy26Ub7b3UuufeIuZ4mqjq/vvEXtOrWlUzlLVHUELUmtg2vy5vuvZS13L+v0csizzbuE7Ucp6ggq51qce95JNfwzG3zL7ZKEfpSiDpZHT/5BtR9YqX7637f7liehH/cuX64GDx6sxo0bZ2IncpFVCO/bl934vW3bNrVr1y71pS99yawvnjXL2ERI6G5zRiCErV2Y7TQmn1zD1Y5NWdm368CCZ1OoZqa2tpuZIqpxgtNiYSDqfw/ZZIJ85F5Jw7UYPahbIjPrYXI1SqiWdcjBXG67lqxC+DOf+YzzrTM33HCD6tKli3rggQfM+kRdqTuhO9FyaMM0ao5uzE033aTOvfAc07BaZ+WhB9Wkj0xXL+48R43+zjZna22DK9baHe+qiRffbB5QPKhqHRIbkdTJBvkcPZX/DC3VDNeChFhJw7qpwRItC/PRgC1ZhfC0adPM578+9pj5tHzxi180o4BuTXno6NGdwpRH622YKFbqpwG8OfNZ9f4F1Z+cOxf4OpJPlyc5f6yN+045JbULQnjKqJ4mxSUBCeRWrnXIlvbskbRrGkE+4jGiNU3nbSBp1wLlEyHMGz9Ljzwnt7BkFcJjxoxR3/rWt9QP7rhDNTU1mQCNq666Sp08eVJ9+OGH6qMf/aizZ3bO+glriHbBF7SWeV9rN/gGv/hvbWn7+eieRgOsdbgOsyb2Nd/JqWxzStQya7QAxn/a4g1jrkVmLduvVq056KwlB97wkXVecyvWAUwSdrHjZATAubdlFcIwZ84ctUoL3GuvvdaYJ1566SX18MMPO6XB8GTAednmEx7Z/Wq1+WRtv2bi7+meuLDVE8ZcqyCE3doNYczVmCOgEBgzGFN/rbOWnhIMP+pahjemMQmMukX4ZpvaDc14woQJRlBbcwUuupgrEMIQKIQt11xzjbr88vzCa88ap7UQbmtrU3/vCGHsfbyK1ypE+ew4QkLum80PhrkGMEfUcpju+PnbO5lkCGPOdw66amVOw5IOs1KbCLoEaoGlgnuEB9HQCsqsh9BFDtbX16vnn3/eyEbAkcE6MbBPpEndd2uVnJHBvvrEJHTHNnJCb7dJ3YFXcu88aoXUkY24yyHMOV7W2t1OLVy8TvfeJN5J7wdEVUfd9nfVfT/e1SnJP4nLV+y6Tf2Xy17IOudeNQdrPLfvLjXBdZ/YfbhXJvu8OSWhH6UK1gh7jnL0A6G7atEidXtTk5ns4k+1jLzOUcIMWjgGkqsc2Gfp0qW+QRqH9KKrMd9ffnedbxLvfOsIIu5yiKMOknirL76Y2vP2e2Y9jjq8JKUOkpeT7N6Pu16bnTWJOazTC/dWEGH7UYo6vOXeJP/g3of7xUsS+hFnHfR5eVt6koiw7SxHPwhiQway8N1bnpc5IhdeP+Fs2GQ1JK+pJUha7k5cbhN+ADkC7tSvmt48w7UACWrsgJwXNMFazBpG3uCglJW9Zm+qOfMVZphcE+UmGUyPBG+AX06JSISw1084CG6wDcdra1LLxQfmmkAEC7Yh949RiwN0b2lBwmBcUGa9Fv1aXms+wyQy+tTF2Sfy5IFdS7ZhPELob6X+P/ivMwhn/YZRVL1EIoT9/ISzwQ3GoEOtYCPkGJi0uAfmLCZgYXvtuKvds2BHzv721ZowwS21AoO3uOgFwQBdLXlJ4EuP90wSI+RyYd94GZzDQoA2vHLlSuOi5iYSIZwNngJfc54AbogGqhUNh8ADtH/3SDcCmB/GDU/8Wpn+yb5a5vpj4Unym+O/TFz+2Digj/nMIcc1W3v3MGet+uFtiTfFSgMBjJcYAWtWQbXa8KMek21sQhgfONwvDjluGW4QTPfsvq0m/lwEHuTSbmDq2D7m89kKtn3lC1o/qTxzgU24ceB8E+BS7RQyhxwToHINqx0TSfnATmetckDTxeyA0LUBGiikCGMC3/Aec5sjYxHCqN7WV/gRHxsIfy5uOG68aibbHHL8MO5cyxZi4ivJD7JYmE34U85DJxdB9tFqotA55Eh4VO2CmKmuKtEMQTAGMtD6AQMCGNME2+7Qi9scGakQRrhwcp4CaMJW/faDG+5EFecIwOSSbQ65bEKYG67ahfCsx/cVPLpPlCGDdNVMoXPINd/Y3wipaoUHDPNS1sKAdWTBGqe04CVQA08JdzZ5b7CGH/nWEaadYcuhkHMQnNF+/Gk16ZLM1FC2fLN+QD2in4b3O2GLbp7ed0r9Vv+55mht0Y9S98OPYutgpggbnLH7gj/Juw5CmB959ZoOsylUSwACM0X0OrFBDQnIl5HtHJ+btVEtmnOZeqvPeWXvR9R17Nb/g5OnPug063bYdpa6H350Ki/U8diPSY2NJlBj+fLlzpYMOD7ratIrPvzD9utST/zxqLOWnbDtjKKfhZzjXd0nb7BBPnU8evIPqfrGttRzrx53tnSk1P3wo9g6xv3g1bPBGYXWsfC12akVB5c4a9UTrNH05oLUt/dMd9b8qYR+RFkHwRl+QSkQtp2l7Ec2vOWRmCOsnzB24EIhUcnvqsw2zIAj3hDFBBsQvksAA7MyVxvubGmFMmvQgrwGOCsJ4yWk35gm9ym+X9wnaI3VxBT9tlRLbniRCOFC/IS93NFvttp86KfmhqwW7tl1W6ALXjabsMUIYWe682oBOzD2vaDgjFxUm2sjXkIN9deejSQtBvxoFy+rHi8jfMc37jtt/KFrhdhc1AC3jOk5tOOh3a5QV/evnuxqNiQ76I+VSwjb6c6rZfSbP1YUs4gcPLNf3dc+s2oe2LwpuRP1FAMP7D1aaFVLoA8aMH0K87CuNGITwvjB4Slx2lkP4s+q6DWTkOxCXI2CmKU1nEqOmbc0P3mgaDOEGx7YQ7pd3iEnc6Wy+ECzr/tioSCsmHmDNI/VAIEZzTcOcNZqg1iEMP7BJHTHL87PT9iPanFDIiQ7l2+rX8ScH8039NcC7A1nrTLBDMHrZRRCGDBfVTqMGXC/u5O2h4FE5wRwVPrMG4uLcF+sBiIVwjZZBQKGhO42U1g+ELyx5sgTFRtFR7sf3jbWWQvGL3eEH0TRjR7YraJvTMwqR1tGR/Z6iZmn0gWxjY4rZuA2GyQ9b7hnS8UKYswpzKRcLRp9IUTmJ9xjYzqhe3ctYO7V2q+d7K4QP2GSWfc+/wpf80TBvncewpZD0D60/Yj+9CZtd2OPP6EfVgfb282Appdy9wOiquPgukPG28NvSpqwdTyy43p1XcNi1TtAkIWtIy6fUfyeu3a5yCSsz3U85FvHN+ZvVyOHXaju8LzOV4KfMG3vq9s+O4cpImw74+4HFFwe1ucNGrMkdAd87nQ16ZUs5FNH2HZG0c9s++APfMOmQalHApKQgz3+ueeeS40bN85Z64hfHQuffbNo/1o/wp4jnzri9nf+wetNqa/vvMVZ8ydsHXH4jK4/+gvjQ27JdTzkWwfXevA3XnbWMlSCnzD3OPdMLsK2M+5+QKHlkZkjciV0LwQGLSppBJzXykX/4amz0VxRw3Twc598o6LMEsyKO3pQt9hi/z/Rb7ZqP7O/oiYIILH/fXtnxjalP9e6fd5IZ60ywHyCFxDui+4prmqJSITwp6ZOzSuhe77sPr21YkbA7awZjNznS74DcxbsqiTzrqRBOnJgxOnrzKv8Ny95PLLBrbhBqcB/nKxwUdqC/SCAwzt5alKphUREuYjNRQ3y8RP2g4EXkt8kXRu2fyz8Vwsh34E5Ny23DjTeEpUAbnV2xD5OrDCrlAAOXBdLkRWOAA6EW9JB+K7dccLc27VMbEK4ED9hL4yAR+VrGyct++5WI3qMMTmDC4GHkzufaD7YAA6S4CR5BBwtrJQau81N7Z7DL2lYZaJUYdfWzzbpWdbQ1vELrqXADD9iEcLF+Al74YYl/0KSteGR3a9WswbNd9byBwFciPueG9x4kqrlYLNuXv2GyYtcKtCGecXnjSSp9wptW/POE85aaUC4xf0mEgZzr+iHBflEap1IhXAYP2E/0G5mbLsmcX8u2sNiHxSlZIZ+deMVLol2tI3700EZpU7EzSt+Ut+cXnSSU5U6+RACGAGH/23S3pyiCmOvFrpMam5uxtKI2cBveVUvQeUs7HNca3e3TJmiDr73nnpy7VqTXZ6yd/TyT3Pnqn9obu50nF2y1XH+uX3Vnvd3qicP/lj16/13ge3I1c6w5Sx2n/+xc4o6rurUwO5X+Za7t7kXd/l5PXuq4Y65Jts+fsvuc89REz56vlqvX+U+qYWdt7yQfviVsRRTjmZz+dAeZ9sURx3uZY9eztcLsP6n+rf44Jzz1VH9cDyjP9kWdR1+S65z/PzQg2rGgCZzL/uV5zqeJUw/8KpZ+dt31Kf/4mK95r8PS5g6WPK9VhfqB8KUf9qpvnL9R9UIfb94y+O8FixR9SPKNtS1pFKpv9RfsvHvegkqh5bWVvXPWuudphem7nCDM871dXVqXUCwRq46nm6foS7QN/J/DBhVznWOsOXAPie0ZrP/2NPq88N+kd7oIqo6StGPKOv4ldbKv9/arp5qyQw2Rl2HF/Soj+nFPfvcIf3m1Kpf/b902QvmDSWOOrzE3U8Ic44TWujdcs8WddfUBvU3Aa/+YduZ77V6Z90h9Yv1h1XL3cPTG13kqgPCtjOqfkTahrCOx0CwBgEIflRbsAYJuHed2pLe4CGqOoJwl+Ocv/SFt521NFHX4Ye7nOTbBGUsbzvibEkTZR1+ZHOqJ/k7EwVAXHW4yXaO//N6kwnKCNsGCHuOBfq3uccJ9slG2DpKEeQAYc+RhH54yxPpJ5wNsk6VaxTc2qVJ0FOIT7AfzL8XxfXC9optuJw+odinyf2alAEWkr8zUUA5c5AQQNJda+KlHi/IBu6Cd5U5Mxn36MoqnKggCmL1E4bHA/LmFsrEi29Wiw/MLflAHfUxwr09gdFZjIIzIWI5YMAH4dtyW7zBB4XCgzLugIhcJDHJEL8XE62WGlPvsn1qYg0lai+E2IQwnhJoe/MiCmUGNIuZA5oKDo4IgxXAzJo8PCJHe6bBDpqJuhDwsSyHFoqbHO5oSYbJVsvx5pTUafq5VwglL7WLI0oC0ZO1Gpaci1iEMK/bCBqW5wsMSsgFpoCw5oBCIBhgYq9bzGtuVEQphN2g5TAQEzct+k/M6yXTrieZ4frN6ZG3FpYkvwTC/jvtM5y15EJ61FJFXnKPoAXjLpdkn+VyE7kQxjeYCT/xFWYKn2LnnssFGuo3dt0am+2PPxV/Xl5rK2WCyalje5sp5eO2Efft3VWtvXtY4iOdyC+BaWJkjzHOlnjgXsFMVkzgTjkg8hLinLWFsYrx83eYMQMhmMiEMPOmEaaMFkxEWByanhtME9z0hA5HbSPmT4UJokeXIEeV4gkTMRcE2sa9X75ENWghGTXpaLh0GCz5aisp1NTah5m5JY6HNgOB9zYsTsxAXL60rDmoGu7ZHPlDGwGMyYPxComIy00kSd3ReH+hhQpT38/0ZAcrJKl7ELn2eUkLYowUaD9+FJJoeemWEWrsgKZONuBCzuGHLd+sH1SPNDer+/Wnl6jqeEsLzXsW7DBCmYxmbgqtY4P+U2GCYGBl5m2Dch4PhdbhJVd5Mcm31x1oVtvfeUKN1w/vIfXXharjwIn1+nxz1dBLHldXBQjfsP2EsOcI6gceC0uW7VdzFo5Snwx4sOZTR49Tf1T99Dm496Cfo3FbknAt8ulHxSZ1L7ef8H0Hl6Ru23xF6uE3F3RImm3JdfwPDi9LPaOXIMJeK1ve1taWamxsdNY6ElUdQKJs9cUXU42PdUw2X2gd437wagc/4FzHQ6F1eMlVXqw/J0nV8fWGYuvgHuNeW6Hvubj7CWHPke+14jfe8/Z76Q0ectVxl77Xuje2dfJbdxO2HxD2HLnKxU84BEyJxCshaQ0bd3za2ZobTA/Ylonx76dfK0tBofmEi4VE2XvuG6Ea+qTNE/n6FKP58jpp91179/Cqea0k4x12YmBKKkwUG449bdaDwIzBvQJjLrpWLRr2VMWMFeRL++H31ZB7t6jR395aUG6SKQ/sVD9bc1At029dDPwJhRGbi5rlpyUQNhZSYN5/yTL14GXrzLoVsIyQ8/oIfGexOWjxfhhz0XXqZv2n4vhqg0EYhDHwJ5vy411qussOaG29fFqeXXdIjR/WIxbbcpL4836zVfcuF5lBNWZzAYQt94fbdvy1HdebB/vmExvMOt455fZDjgPukyMLR5kkTD27pSfctPfHI849YtfHz99+9h5a8ZWPqxXzRpq8IULhxCaE8RPGS2JRCYWwFwZMcjnNI3jRaLLZkuMgroG5XPAnY/qbeXcNCxSwc/SfCo2m2vO8Mh3VzAHN5qHNZzbwTX9sxJaq03z94Dfnt8+VCa/5hgFV/5AuFbEIYYSMnTkiaj/hQmC02k6RPkB/Mg/emad6mfVyar3FJHWPEgZMrIBFUyavq3VbqnXQcLk/3JpuNb4h5Yu9P/CI4btdR0hX+0O6VEQuhPGUsAndEXpx+QkXAkKP6fhvuukmNW3aNGerUItgasC8QB6S9yN2bRSEYohMCNuE7gjfKBK6RwmDYH0bGnDRUIMHD3a2lg8GMfGnFkrPxF43qz3vMZHsg6r1lZEmyo2gnFLnIxEESyRCeLd+tUawELBhgzaSBFPx2zzHe/fuNZ9C5cFAa9hJPTEzTOrzhfR4waUvmCmqEMi3a4Gcr6dEKSjVQyHK4BV5syiOui9r9TDIMYtUObkctx7TWu9HevZUE32S9TDm/q26OnVfQLBGPnXk2ief8uMrVqh1Wiue4aOFlqoNlB/RD6o9ug1X+UQVRlVHEJVax/qX/1Rd1H2MOn5yg6o75yLVvdvlqode/qRLvdl+nhas57tsudnq+KMWFi9tu0Zd3LBYfdyx976nhdEbWhgfOfZLXX5cXVx/rTqvz3TVt9sVKsha7lcH59/ePlP118e/fnK9+vDEBjXKZxIA8B5PO9pevUYNH7xYtyE9gWy2frAv9ZzSmj370/6B/Wareo8N+229EPtJPw5qrf/9P+xX7+iHzQe6n126XGTalu16N/RvUv0/Mj1rG4Bz7tp/txp9xWbVLWCAO+gckKscwp4jV7n7WmUj8jaEdTyGoH1KFayRq3xRW1uqvr4+NXnyZGdLR0rRBltOYMu4ceOctY5EVUcQlVrHDZsGOd/0Nfzj0dSv311nAiYInvj6zltSX9h6tdmH7wRkNOntBGf4JeHnmDud5O9e2J/k8ARkcE4StL/5fseAF4u3nQQKkVSeeoFy2pQtEMjvePZ3BxwFXSvq+qoTfGL77cUGINAvzm37YvsGfnW8rK+vbUdQG+gr1zLuIAcIe45c5RUbrBFElPmEiwV79X1TphiTSdJMJUJx4FJ4qdb4cBvDm8H6h6/+s9fM+qd6pUPOnz3yc5Nf5Eat1U3fNvas33h3rUm/e2a/b4Y1/IDJmtc4You6dUCT8SWfobVTO6AX9Ap/n9ZMgaAQYMolWKPbYX2QMXlQL+YPC2VsW3Jgrhpyvtbwdf/YRn3ksfbL0IbJAvt2b91e8/301g4ZBjmWc/5af2LGoW30m/0490GtEZMhEPCjZx/q4Vwct+H402fbQVpQtrnbwf70hT4NcJIksY392MYi5CY2IWz9hP9+2jT11aYmM1BXrsEohO8QLXxpA2kkywnXxCY6EuIBlzKEIMEYRMf9UL9uI5znXfK4EdBw8A/7tPC63AjYIP5cnweB/Kh+1Z7UZ7rafHK9EcgIc4SN2w6K8NpycoOuP5O1DUEP5KOGR7VgektvQ8CtOZKeBh/BRTDImPpr9ffM8SSRIorz8Hv+OZE3HPul+Tyj6+V4JhS1/UPAc54tur1v6uOtmx2zUnNtOBaBjNDG1r5dPySwk//m+C/NNUFA006gHRfqsj2udiBgCXIZovvFg6B/96tNP3jg0Q+EM+cXchOLEHb7CTdpAfy/5s5VixYtUhMmTFB1dXWdlht9tnmXXPu4y90h1Hhs8ECYpTVy2mWFsPXTZdDOe3y2pZA2+C2Ur1y5UvXq1ausfsK1CoNy1m8cYYSQRmDkAxohydrJ3Dejf5PRJhftv1sd1p8WKxT7npuxS7drYYswMgLcibhjhhj45EXpulceetBss8KPwUIEPNF8CMwD+jiiOr0gYNGaG3QZx1lBjwZMXbt1207oc16vhTMPCHNuR8Cjmdu+p4XsIPOAaBw431wnhCgC2raDhEec07Zjla6D62j7dKk+r/ucCOZ8r22tE7kQ9voJM9W95bnnnjNuYt5ltc8275JrH3e51TJxTXvooYdMO3r07GmEsV2sCx1C2Ht8tqWQNvgtlMPkyZPLrpHXCmh59pUZ7RANFtPEjG3XqKf16zmeEfnAOXgVx4sCYYMQX3LpCyYIyIsVhrzG79DaLhoqgg2hOaL7GCPQt2jhhbBFk+Y7ws1qxmiXaMppjfVprQljZkif043VmmkDgn6D1mIhfey15qFh82S4NV9rxhjhaK8nPzyuRvb5gtH4Oc6WkyPDtmOPbgfbaAfXlGPYzrXgQXCurmOrroN+rDr0U/0gGmiEt5CbyIQwgi3IT3j58uUlDdxA8M6ePVstXLjwrFaO9knABpoowrcc0J6kBLFUE25bJIIW++1PtLDl9Ri7MCB00N6saeKMFiRoqNn4vRY8P9GC+3NbRphXbwQYghfzBrZod1QdIPQQSAgmhCc2WISbne7IapIIZ4QYJhFs2wgrtOGTWvghvNCIMUOgbe7Wgg/cZhOEJNoumi0gyEegier+c24EJUKXa8F1QehjSjirpTraO/sh8IG0nFw/6nELbNsOHgRAuRWu1ubLOtu76k+uE/0Ad5uFALR2FkiucsDzYNSoUWbE/8iRjlOfl8s7gnSR7vSalLPe1NRkyrzE0QYvUkeGYsoZ2WfEHs+Gb73elPrHnbcYDwbrEYFHA2XsgydAUB3sj/eEF0b6rWfE57ZenfqRrsfPu8LiVwf70wa8EPLpJ/vhhcCnrYt1vvO5NKB+8KvDXgPAk+Szuj9sA85pvwP1/kSvW08IPCysl4VtxxPOp8V6WLCN75ztFf3Jd7t4yeda5CLsOXKVV6x3xJrWVjPghBkgKRoe2q/bNgysowGLh0Rlgg3Val8XnjtITcEkcNkLRrPFO4LXaTRd7L5ocdlAO0QbREu165gqrMaLZoem/LXL1qnbBjQHnssP9qcNXk05G+yHtsqnrYt1vvPZp8D6wV4DTCi/15rtlVpTZhtwTvsdqBeTBmYRtGE+7QCfbQcau20b2L6xzX7n070I+RHJzBpB+5RqZg13OTNX3DNhgrOWnXnPPadGOoI66jb4IXVkCFseZgaEh7eNNS5Vx7WwPaEF1Bn92sykoMN63dJB4JVllgUfwpwD1zMmpfp4t8tVTy1Is8E5hpzZZ7w58IRgoM5NrjaU4lpB2HMkoR+dysOq1hC0z4+WLi1rsIY1SyzZs8fZ4k+cbbBIHRnClhf72kjQBOYLzA13vTb7bFCFH+V4NfUj7DlK0Y9S1AFhz5GEfnjLY/cTnlemATDrJscAIcuMIUNKMpuFkGzwJpg39HGTH3iC8Qbo7PolCKUkdj/hcuUTRuBio2ahPUNGjSqbR4SQHLBVuu2hglBuYvcTLtdAHQLXXTdZ1I4dkyxPgiAki5L5CZcabzBEdy2QR2ltWBAEIUlEIoSTnk8YNmitXGzCgiAkjUiEcBL9hN2gpZPAx+s3LAiCUG6q0k/YzQktgHlIDJk1q6jj3RTbBovUkSFseSn8OavBTxiq5VpB2HMkoR+dysP6vEHQPhv37CmbnzAh1Hfeeaf5XszxXsKeQ+rIELa8Wnxfc5VDJfRD/IQzFFoei4uaxYQIDxnirJUW66dszSRE0fEpdmFBEJJELEIYAYj9FRe1Z9vanK2lw9b//PPPm6xp5DEmjJlPyRshCEKSiFwII3hxD2NB8yyH0GNwkAANremfXfQrgPmUwTlBEJJEpEIY32B8hQnYYEmip4QgCEKSiEQI4yeMxmtDhLHDCoIgCLmJRAhbP2EEsEzbIwiCkD+RCOGZLS2SHEcQBKEIYg/W2Nverr46ZEjZgjUsYctB6kiThDokWCNDEvohwRoZCi4P63gM2fZZuHChCdRgCSJMHZa4y0HqSJOEOiRYI0MS+iHBGhkKLY/cRQ1soASBEeXwExYEQagUIhfC7oTu7u+CIAhCZyIVwvgGEwxR7oTugiAIlUIkQphMZTahO8K33AndBUEQKoVIhHCLFsA2obuEBQuCIORPJEJ4jtZ+k5rQXRAEIcnE7if86saN6r9deaX4CWukjgxhy8VPOEMS+iF+whkKLg/r8wbZ9hE/4Y5IHRnCloufcIYk9EP8hDMUWh65ixqIn7AgCEJ+RC6ExU9YEAQhfyIVwuInLAiCUBiRCGHxExYEQSiOSISw+AkLgiAURyRCWPyEBUEQiiPygTkvmCoEQRAEf2IN1tistWNMFQf37pVgDY3UkSFsuQRrZEhCPyRYI0PB5WEdj8Fvn6amplR9fX1qrhOwEUSxdbiJuxykjjRJqEOCNTIkoR8SrJGh0PLIzRF2cA4vCezEfy+eEoIgCFmJVAgjeAnOYEEAS6CGIAhCMJEIYQbf8A3GV5iADcKVxVNCEAQhN5EIYQbfCFFmIWeEIAiCkB+RCGHrJ9zQ0OBs6cj0pibnmyAIgpBBqf8Pa7l+i55LP9MAAAAASUVORK5CYII=)\n",
    "\n"
   ]
  },
  {
   "cell_type": "code",
   "execution_count": null,
   "metadata": {
    "cellView": "form",
    "colab": {
     "base_uri": "https://localhost:8080/",
     "height": 321
    },
    "executionInfo": {
     "elapsed": 332,
     "status": "ok",
     "timestamp": 1717811991062,
     "user": {
      "displayName": "Alejandro Marin Marin",
      "userId": "12754408092033862019"
     },
     "user_tz": 300
    },
    "id": "_CigEKFKkns_",
    "outputId": "eca0a0a9-e837-48dd-c080-e6f4bca12be6"
   },
   "outputs": [
    {
     "data": {
      "text/html": [
       "\n",
       "<img src=\"https://upload.wikimedia.org/wikipedia/commons/a/ac/Onda_Transversal_en_una_cuerda.gif\" alt=\"GIF\" style=\"width: 400px; height: 300px;\">\n"
      ],
      "text/plain": [
       "<IPython.core.display.HTML object>"
      ]
     },
     "metadata": {},
     "output_type": "display_data"
    }
   ],
   "source": [
    "# @title Imagen aplicativa\n",
    "from IPython.display import HTML\n",
    "\n",
    "# URL del GIF que deseas mostrar\n",
    "url_gif = \"https://upload.wikimedia.org/wikipedia/commons/a/ac/Onda_Transversal_en_una_cuerda.gif\"\n",
    "\n",
    "# Ancho y alto deseados del GIF (en píxeles)\n",
    "ancho_gif = 400\n",
    "alto_gif = 300\n",
    "\n",
    "# Código HTML para mostrar el GIF con tamaño modificable\n",
    "html_gif = f\"\"\"\n",
    "<img src=\"{url_gif}\" alt=\"GIF\" style=\"width: {ancho_gif}px; height: {alto_gif}px;\">\n",
    "\"\"\"\n",
    "\n",
    "# Mostrar el GIF en el notebook\n",
    "display(HTML(html_gif))"
   ]
  },
  {
   "cell_type": "code",
   "execution_count": null,
   "metadata": {
    "cellView": "form",
    "colab": {
     "base_uri": "https://localhost:8080/",
     "height": 321
    },
    "executionInfo": {
     "elapsed": 222,
     "status": "ok",
     "timestamp": 1717812083794,
     "user": {
      "displayName": "Alejandro Marin Marin",
      "userId": "12754408092033862019"
     },
     "user_tz": 300
    },
    "id": "Z72x29_-k06E",
    "outputId": "49a691b8-c217-48fe-dfb2-f894eba4932e"
   },
   "outputs": [
    {
     "data": {
      "text/html": [
       "\n",
       "<img src=\"https://www.fisicavirtual.cl/campus/pluginfile.php/144/course/section/38/4%20arm.gif\" alt=\"GIF\" style=\"width: 400px; height: 300px;\">\n"
      ],
      "text/plain": [
       "<IPython.core.display.HTML object>"
      ]
     },
     "metadata": {},
     "output_type": "display_data"
    }
   ],
   "source": [
    "# @title Imagen aplicativa\n",
    "from IPython.display import HTML\n",
    "\n",
    "# URL del GIF que deseas mostrar\n",
    "url_gif = \"https://www.fisicavirtual.cl/campus/pluginfile.php/144/course/section/38/4%20arm.gif\"\n",
    "\n",
    "# Ancho y alto deseados del GIF (en píxeles)\n",
    "ancho_gif = 400\n",
    "alto_gif = 300\n",
    "\n",
    "# Código HTML para mostrar el GIF con tamaño modificable\n",
    "html_gif = f\"\"\"\n",
    "<img src=\"{url_gif}\" alt=\"GIF\" style=\"width: {ancho_gif}px; height: {alto_gif}px;\">\n",
    "\"\"\"\n",
    "\n",
    "# Mostrar el GIF en el notebook\n",
    "display(HTML(html_gif))"
   ]
  }
 ],
 "metadata": {
  "colab": {
   "authorship_tag": "ABX9TyOkVfp9WMsyZjlU7J5Nqrez",
   "provenance": []
  },
  "kernelspec": {
   "display_name": "Python 3",
   "name": "python3"
  },
  "language_info": {
   "name": "python"
  }
 },
 "nbformat": 4,
 "nbformat_minor": 0
}
