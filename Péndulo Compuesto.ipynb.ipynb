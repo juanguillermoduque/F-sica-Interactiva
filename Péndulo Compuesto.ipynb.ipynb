{
 "cells": [
  {
   "cell_type": "markdown",
   "metadata": {
    "id": "Fr5pAiW1RwJN"
   },
   "source": [
    "Integrantes:\n",
    "- Juan Guillermo Duque Montoya\n",
    "- Alejandro Marin Marin"
   ]
  },
  {
   "cell_type": "markdown",
   "metadata": {
    "id": "GOzBiCXhVBzD"
   },
   "source": [
    "# **Pendulo compuesto**"
   ]
  },
  {
   "cell_type": "markdown",
   "metadata": {
    "id": "Qyv60YJaQGas"
   },
   "source": [
    "El péndulo compuesto, también conocido\n",
    "como péndulo físico, es un concepto fundamental en la mecánica de sólidos rígidos. A diferencia del péndulo simple, que se considera una masa puntual suspendida de un hilo inextensible y sin masa, el péndulo compuesto es un cuerpo rígido con una distribución de masa específica y un centro de masa (CM) distinto del punto de suspensión.\n",
    "\n",
    "Algunas características importantes del péndulo compuesto son:\n",
    "\n",
    "1. Eje de rotación: El péndulo compuesto oscila libremente alrededor de un eje de rotación fijo, representado como ZZ' en su definición.\n",
    "\n",
    "2. Centro de masa (CM): El centro de masa del cuerpo rígido no coincide necesariamente con el punto de suspensión. La distancia entre el centro de masa y el eje de rotación es un factor clave que determina el periodo y las propiedades oscilatorias del péndulo.\n",
    "\n",
    "3. Distribución de masa: A diferencia del péndulo simple, el péndulo compuesto tiene una distribución de masa no uniforme. Esto implica que la masa no está concentrada en un solo punto, sino que se distribuye a lo largo de todo el cuerpo rígido.\n",
    "\n",
    "4. Momento de inercia: El momento de inercia del cuerpo rígido respecto al eje de rotación desempeña un papel crucial en la dinámica del péndulo compuesto. El momento de inercia depende de la distribución de masa y la geometría del cuerpo.\n",
    "\n",
    "5. Periodo de oscilación: El periodo de oscilación del péndulo compuesto depende no solo de la longitud efectiva (distancia entre el centro de masa y el eje de rotación) y la aceleración gravitacional, sino también del momento de inercia del cuerpo rígido.\n",
    "\n",
    "El estudio del péndulo compuesto es fundamental en la mecánica de sólidos rígidos, ya que permite analizar el movimiento oscilatorio de objetos con geometrías y distribuciones de masa más complejas que el péndulo simple. Esto tiene aplicaciones en diversos campos, como la ingeniería, la física y la dinámica de sistemas."
   ]
  },
  {
   "cell_type": "markdown",
   "metadata": {
    "id": "CZ0XuS7aXcNX"
   },
   "source": [
    "El movimiento del péndulo compuesto se puede describir mediante la siguiente ecuación diferencial:\n",
    "\n",
    "$$I_o \\ddot{\\theta} + mgb \\sin\\theta = 0$$\n",
    "\n",
    "Donde:\n",
    "\n",
    "$I_o$ es el momento de inercia respecto al eje de rotación que pasa por el punto $O$\n",
    "$m$ es la masa del cuerpo rígido\n",
    "$g$ es la aceleración debido a la gravedad\n",
    "$b$ es la distancia desde el eje de rotación al centro de masa\n",
    "$\\theta$ es el ángulo de desplazamiento respecto a la vertical\n",
    "Esta ecuación se puede reescribir como:\n",
    "\n",
    "$$\\ddot{\\theta} + \\frac{mgb}{I_o} \\sin\\theta = 0$$\n",
    "\n",
    "Definiendo $\\omega_0^2 = \\frac{mgb}{I_o}$, tenemos:\n",
    "\n",
    "$$\\ddot{\\theta} + \\omega_0^2 \\sin\\theta = 0$$\n",
    "\n",
    "Donde $\\omega_0$ es la frecuencia angular natural del péndulo compuesto.\n",
    "\n",
    "Para pequeños ángulos, $\\sin\\theta \\approx \\theta$, y la ecuación se reduce a la del movimiento armónico simple:\n",
    "\n",
    "$$\\ddot{\\theta} + \\omega_0^2 \\theta = 0$$\n",
    "\n",
    "La solución general de esta ecuación es:\n",
    "\n",
    "$$\\theta(t) = A \\cos(\\omega_0 t + \\phi)$$\n",
    "\n",
    "Donde $A$ y $\\phi$ son constantes determinadas por las condiciones iniciales."
   ]
  },
  {
   "cell_type": "code",
   "execution_count": null,
   "metadata": {
    "cellView": "form",
    "id": "quJZeyekdChR"
   },
   "outputs": [],
   "source": [
    "# @title La gráfica del desplazamiento angular $\\theta(t)$ en función del tiempo para el movimiento armónico simple es:\n",
    "from IPython.display import display, Latex\n",
    "\n",
    "latex_code = r'''\\begin{tikzpicture}\n",
    "    \\begin{axis}[\n",
    "        xlabel=$t$,\n",
    "        ylabel=$\\theta(t)$,\n",
    "        xmin=0, xmax=6.28,\n",
    "        ymin=-1.1, ymax=1.1,\n",
    "        grid=major,\n",
    "        samples=100,\n",
    "        domain=0:6.28\n",
    "    ]\n",
    "    \\addplot[thick, smooth] {cos(deg(x))};\n",
    "    \\end{axis}\n",
    "\\end{tikzpicture}\n",
    "'''\n",
    "\n",
    "display(Latex(latex_code))"
   ]
  },
  {
   "cell_type": "markdown",
   "metadata": {
    "id": "o63M0HMrbLR6"
   },
   "source": [
    " Para el caso en el que el desplazamiento angular θ es muy pequeño. En este caso, se puede hacer la aproximación sen(θ) ≈ θ. Utilizando esta aproximación, la aceleración angular α se puede escribir como:\n",
    "\n",
    "\n",
    " $$\\alpha \\approx -\\left(\\frac{m \\cdot g \\cdot b}{I_o}\\right) \\theta$$\n",
    "\n",
    " Donde:\n",
    "\n",
    "- m es la masa del cuerpo rígido.\n",
    "- g es la aceleración debido a la gravedad.\n",
    "- b es la distancia desde el eje de rotación al centro de masa.\n",
    "- I_o es el momento de inercia respecto al eje de rotación.\n",
    "\n",
    "Esta ecuación describe un movimiento armónico simple, donde la aceleración angular es proporcional al desplazamiento angular, pero con signo opuesto.\n",
    "\n",
    "\n",
    " **Ecuación para la aceleración tangencial del centro de masa:**\n",
    "\n",
    "$$a_{tang} = \\alpha \\cdot r = \\alpha \\cdot b$$\n",
    "\n",
    "Donde r es la distancia desde el eje de rotación al centro de masa."
   ]
  },
  {
   "cell_type": "code",
   "execution_count": null,
   "metadata": {
    "cellView": "form",
    "colab": {
     "base_uri": "https://localhost:8080/",
     "height": 661,
     "referenced_widgets": [
      "0d520ab565c04cc5ae78f087cbfc0eea",
      "7029dd7eabda42b8b2ac81a293fb6501",
      "58fa6195e65f4af89a0f4870567a86a8",
      "4b2f9bf5b33c46688ccaeccfb2e8d098",
      "0d1626794ce84645b18141ae2034b985",
      "549475e89c6f478e87e7ed1f359769f9",
      "9ab90004fd414daaafc9dc393034cedb",
      "49b1d85b4bea4a66b18759fdfb006c16",
      "ad629dd157844878b4cb2167722578f1",
      "d61dfef3da7f4316894e65e872221efa",
      "666dae901dce4679b085a67bc47dd5db",
      "af7c17c9f76d4c8d81ee5fd6f5518b35",
      "b9ab78cfc1234d93b57e6334828b396c"
     ]
    },
    "executionInfo": {
     "elapsed": 1095,
     "status": "ok",
     "timestamp": 1717813143797,
     "user": {
      "displayName": "Alejandro Marin Marin",
      "userId": "12754408092033862019"
     },
     "user_tz": 300
    },
    "id": "ps61OJ6lc1mt",
    "outputId": "0e0ab969-edb3-425d-ef68-37cce4af942a"
   },
   "outputs": [
    {
     "data": {
      "application/vnd.jupyter.widget-view+json": {
       "model_id": "0d520ab565c04cc5ae78f087cbfc0eea",
       "version_major": 2,
       "version_minor": 0
      },
      "text/plain": [
       "interactive(children=(FloatSlider(value=1.0, description='Amplitud', max=2.0, min=0.1), FloatSlider(value=1.0,…"
      ]
     },
     "metadata": {},
     "output_type": "display_data"
    }
   ],
   "source": [
    "# @title Gráfica interactiva que muestra el movimiento armónico simple del péndulo compuesto cuando el ángulo θ es pequeño:\n",
    "import numpy as np\n",
    "import matplotlib.pyplot as plt\n",
    "from ipywidgets import interactive, fixed\n",
    "from ipywidgets import widgets\n",
    "\n",
    "def pendulum_plot(A, w, phi):\n",
    "    t = np.linspace(0, 10, 1000)\n",
    "    theta = A * np.cos(w * t + phi)\n",
    "\n",
    "    fig, ax = plt.subplots(figsize=(8, 6))\n",
    "    ax.plot(t, theta)\n",
    "    ax.set_xlabel('Tiempo (s)')\n",
    "    ax.set_ylabel('Desplazamiento angular θ (rad)')\n",
    "    ax.set_title('Movimiento armónico simple del péndulo compuesto')\n",
    "    ax.grid(True)\n",
    "\n",
    "    plt.show()\n",
    "\n",
    "interactive_plot = interactive(pendulum_plot, A=widgets.FloatSlider(value=1.0, min=0.1, max=2.0, step=0.1, description='Amplitud'),\n",
    "                               w=widgets.FloatSlider(value=1.0, min=0.1, max=2.0, step=0.1, description='Frecuencia angular'),\n",
    "                               phi=widgets.FloatSlider(value=0.0, min=0.0, max=6.28, step=0.1, description='Fase inicial'))\n",
    "\n",
    "display(interactive_plot)"
   ]
  },
  {
   "cell_type": "code",
   "execution_count": null,
   "metadata": {
    "cellView": "form",
    "colab": {
     "base_uri": "https://localhost:8080/",
     "height": 638
    },
    "executionInfo": {
     "elapsed": 13199,
     "status": "ok",
     "timestamp": 1711214126711,
     "user": {
      "displayName": "Juan Guillermo Duque Montoya",
      "userId": "17267768464800127733"
     },
     "user_tz": 300
    },
    "id": "r_ExOMBG0U4Y",
    "outputId": "e2cbafda-b0a8-413b-9fe6-c3558a5117db"
   },
   "outputs": [
    {
     "name": "stdout",
     "output_type": "stream",
     "text": [
      "Ingrese la longitud del primer segmento del péndulo (m): 234\n",
      "Ingrese la longitud del segundo segmento del péndulo (m): 23\n",
      "Ingrese el ángulo inicial del primer segmento (en grados): 34\n",
      "Ingrese el ángulo inicial del segundo segmento (en grados): 45\n"
     ]
    },
    {
     "data": {
      "image/png": "[encoded data removed]",
      "text/plain": [
       "<Figure size 800x600 with 1 Axes>"
      ]
     },
     "metadata": {},
     "output_type": "display_data"
    }
   ],
   "source": [
    "# @title Ejemplo: Pêndulo compuesto Interactivo\n",
    "import numpy as np\n",
    "import matplotlib.pyplot as plt\n",
    "from scipy.integrate import solve_ivp\n",
    "\n",
    "def pendulo_compuesto(t, y, l1, l2, g):\n",
    "    \"\"\"\n",
    "    Ecuaciones diferenciales para el péndulo compuesto.\n",
    "    y[0] = theta1, y[1] = omega1, y[2] = theta2, y[3] = omega2\n",
    "    \"\"\"\n",
    "    theta1, omega1, theta2, omega2 = y\n",
    "    dydt = [omega1, -g/l1 * np.sin(theta1), omega2, -g/l2 * np.sin(theta2)]\n",
    "    return dydt\n",
    "\n",
    "def pendulo_compuesto_interactivo():\n",
    "    # Parámetros del péndulo\n",
    "    l1 = float(input(\"Ingrese la longitud del primer segmento del péndulo (m): \"))\n",
    "    l2 = float(input(\"Ingrese la longitud del segundo segmento del péndulo (m): \"))\n",
    "    g = 9.81  # Aceleración debida a la gravedad (m/s^2)\n",
    "\n",
    "    # Ángulo inicial\n",
    "    theta1_0 = float(input(\"Ingrese el ángulo inicial del primer segmento (en grados): \")) * np.pi / 180.0\n",
    "    theta2_0 = float(input(\"Ingrese el ángulo inicial del segundo segmento (en grados): \")) * np.pi / 180.0\n",
    "\n",
    "    # Velocidad angular inicial\n",
    "    omega1_0 = 0.0\n",
    "    omega2_0 = 0.0\n",
    "\n",
    "    # Condiciones iniciales\n",
    "    y0 = [theta1_0, omega1_0, theta2_0, omega2_0]\n",
    "\n",
    "    # Tiempo de integración\n",
    "    t_span = [0, 20]\n",
    "    t_eval = np.linspace(t_span[0], t_span[1], 1000)\n",
    "\n",
    "    # Solución del sistema de ecuaciones diferenciales\n",
    "    sol = solve_ivp(pendulo_compuesto, t_span, y0, args=(l1, l2, g), t_eval=t_eval)\n",
    "\n",
    "    # Plot\n",
    "    plt.figure(figsize=(8, 6))\n",
    "    plt.plot(t_eval, sol.y[0], 'b-', label='Theta1(t)')\n",
    "    plt.plot(t_eval, sol.y[2], 'r-', label='Theta2(t)')\n",
    "    plt.title('Péndulo Compuesto')\n",
    "    plt.xlabel('Tiempo (s)')\n",
    "    plt.ylabel('Ángulo (rad)')\n",
    "    plt.grid(True)\n",
    "    plt.legend()\n",
    "    plt.show()\n",
    "\n",
    "# Ejecutar la función interactiva\n",
    "pendulo_compuesto_interactivo()\n"
   ]
  },
  {
   "cell_type": "code",
   "execution_count": null,
   "metadata": {
    "cellView": "form",
    "colab": {
     "base_uri": "https://localhost:8080/",
     "height": 488
    },
    "executionInfo": {
     "elapsed": 951,
     "status": "ok",
     "timestamp": 1711214139707,
     "user": {
      "displayName": "Juan Guillermo Duque Montoya",
      "userId": "17267768464800127733"
     },
     "user_tz": 300
    },
    "id": "0Y2uhAxiT32p",
    "outputId": "5b67c5c1-fcb5-4e9d-9a33-4d29edd299bf"
   },
   "outputs": [
    {
     "data": {
      "image/png": "[encoded data removed]",
      "text/plain": [
       "<Figure size 1000x500 with 1 Axes>"
      ]
     },
     "metadata": {},
     "output_type": "display_data"
    }
   ],
   "source": [
    "# @title Ejemplo 2: Pêndulo compuesto\n",
    "import numpy as np\n",
    "import matplotlib.pyplot as plt\n",
    "from scipy.integrate import solve_ivp\n",
    "\n",
    "# Definición de las ecuaciones diferenciales para el péndulo compuesto\n",
    "def pendulum_composite(t, y, L1, L2, m1, m2, g):\n",
    "    theta1, omega1, theta2, omega2 = y\n",
    "\n",
    "    dydt = [omega1,\n",
    "            -m2/m1*L2/L1*omega2**2*np.sin(theta1-theta2) - (m1+m2)*g/L1*np.sin(theta1),\n",
    "            omega2,\n",
    "            (L1/L2*(m1+m2)*omega1**2*np.sin(theta1-theta2) - (m1+m2)*g*np.sin(theta2))/((m1+m2)*L2)]\n",
    "\n",
    "    return dydt\n",
    "\n",
    "# Parámetros del sistema\n",
    "L1 = 1.0  # Longitud del primer péndulo\n",
    "L2 = 0.8  # Longitud del segundo péndulo\n",
    "m1 = 1.0  # Masa del primer péndulo\n",
    "m2 = 0.5  # Masa del segundo péndulo\n",
    "g = 9.81  # Aceleración gravitacional\n",
    "\n",
    "# Condiciones iniciales (ángulo inicial y velocidad angular inicial para cada péndulo)\n",
    "theta1_0 = np.pi/2  # Ángulo inicial del primer péndulo (en radianes)\n",
    "omega1_0 = 0.0      # Velocidad angular inicial del primer péndulo\n",
    "theta2_0 = np.pi/2  # Ángulo inicial del segundo péndulo (en radianes)\n",
    "omega2_0 = 0.0      # Velocidad angular inicial del segundo péndulo\n",
    "\n",
    "# Tiempo de integración\n",
    "t_span = (0, 10)  # Tiempo inicial y final\n",
    "t_eval = np.linspace(*t_span, 1000)  # Puntos de tiempo donde se evaluará la solución\n",
    "\n",
    "# Resolviendo las ecuaciones diferenciales\n",
    "sol = solve_ivp(pendulum_composite, t_span, [theta1_0, omega1_0, theta2_0, omega2_0],\n",
    "                args=(L1, L2, m1, m2, g), t_eval=t_eval)\n",
    "\n",
    "# Plotting\n",
    "plt.figure(figsize=(10, 5))\n",
    "plt.plot(sol.t, sol.y[0], label='Péndulo 1')\n",
    "plt.plot(sol.t, sol.y[2], label='Péndulo 2')\n",
    "plt.title('Movimiento de los péndulos compuestos')\n",
    "plt.xlabel('Tiempo')\n",
    "plt.ylabel('Ángulo (radianes)')\n",
    "plt.legend()\n",
    "plt.grid()\n",
    "plt.show()\n"
   ]
  },
  {
   "cell_type": "markdown",
   "metadata": {
    "id": "Rpo4srIQ2MBj"
   },
   "source": [
    "## **Teorema de Steiner**\n"
   ]
  },
  {
   "cell_type": "markdown",
   "metadata": {
    "id": "bN4UGdx323jj"
   },
   "source": [
    "El Teorema de Steiner, también conocido como el Teorema del Eje Paralelo, es un principio fundamental en la mecánica que describe cómo varía el momento de inercia de un objeto cuando se calcula respecto a un eje paralelo desplazado en comparación con el momento de inercia calculado respecto a su centro de masa. Este teorema es extremadamente útil en el análisis de sistemas físicos, ya que permite simplificar cálculos al considerar diferentes configuraciones de ejes.\n",
    "\n",
    "Matemáticamente, el teorema se expresa como:\n",
    "\n",
    "\\[ I = I_c + m \\cdot d^2 \\]\n",
    "\n",
    "Donde:\n",
    "\n",
    "- \\( I \\) es el momento de inercia del objeto respecto al eje paralelo.\n",
    "- \\( I_c \\) es el momento de inercia del objeto respecto a su centro de masa.\n",
    "- \\( m \\) es la masa del objeto.\n",
    "- \\( d \\) es la distancia entre el eje paralelo y el eje que pasa por el centro de masa.\n",
    "\n",
    "Este teorema nos indica que el momento de inercia respecto a un eje paralelo es igual al momento de inercia respecto al centro de masa más el producto de la masa del objeto por el cuadrado de la distancia entre los dos ejes paralelos.\n",
    "\n",
    "La importancia del Teorema de Steiner radica en su capacidad para simplificar el cálculo del momento de inercia en sistemas físicos, ya que nos permite trasladar el cálculo desde un eje de rotación más complejo (como el eje de simetría del objeto) a un eje paralelo más sencillo (como el eje de rotación de un cuerpo cercano), sin afectar el resultado final.\n"
   ]
  },
  {
   "cell_type": "markdown",
   "metadata": {
    "id": "GIY7Jmotgvyc"
   },
   "source": [
    "## **Relacion Pendulo Compuesto y Teorema de Steiner**"
   ]
  },
  {
   "cell_type": "markdown",
   "metadata": {
    "id": "8o1uPZRHhAoK"
   },
   "source": [
    "En el caso del péndulo compuesto, el Teorema de Steiner es útil para calcular el momento de inercia cuando el eje de rotación no pasa por el centro de masa. El período de oscilación del péndulo compuesto depende del momento de inercia y la distancia al centro de masa, y se calcula con la fórmula: $$ T = 2\\pi \\sqrt{\\frac{I}{mgd}} $$Donde ( g ) es la aceleración debido a la gravedad."
   ]
  },
  {
   "cell_type": "code",
   "execution_count": 2,
   "metadata": {
    "cellView": "form",
    "colab": {
     "base_uri": "https://localhost:8080/",
     "height": 130,
     "referenced_widgets": [
      "f70650a161fc4b289dcf10a27dec029e",
      "081257a04fc54fddaff735b104483e8a",
      "f2dd5827bf6142c594ad19fc9c0af37b",
      "391a0750ec4749a49b8a94f9d4c2b093",
      "50cd4fad3d2c4f3f8bcb6353dc6a1c7f",
      "6f675e706ac3466dbee7b4c7c3b76ad2",
      "cb9a8f8e854343a587e67c0f78bccc74",
      "69e6750516c642beb5faa8275a85601b",
      "45e95e9b9e6e46e4a2a4e28daacbbb61",
      "7a52d39a970549edb6a6258ae9058f2d",
      "cae4e864b007469da6a85a099b9756f9",
      "97819b642fc142c49d67b450e8688b19",
      "75556873a82646d8a02f429b54a05109"
     ]
    },
    "executionInfo": {
     "elapsed": 556,
     "status": "ok",
     "timestamp": 1717815952210,
     "user": {
      "displayName": "Alejandro Marin Marin",
      "userId": "12754408092033862019"
     },
     "user_tz": 300
    },
    "id": "i4xmYo7shlX-",
    "outputId": "18ba26df-5941-4bdc-9c96-f4dae4602b9c"
   },
   "outputs": [
    {
     "data": {
      "application/vnd.jupyter.widget-view+json": {
       "model_id": "f70650a161fc4b289dcf10a27dec029e",
       "version_major": 2,
       "version_minor": 0
      },
      "text/plain": [
       "interactive(children=(FloatSlider(value=1.0, description='m', max=10.0, min=0.1), FloatSlider(value=0.5, descr…"
      ]
     },
     "metadata": {},
     "output_type": "display_data"
    }
   ],
   "source": [
    "# @title Ejemplo: Pêndulo compuesto Aplicando el teorema de steiner\n",
    "import numpy as np\n",
    "import matplotlib.pyplot as plt\n",
    "from ipywidgets import interactive\n",
    "\n",
    "# Definir la función para calcular el período del péndulo compuesto\n",
    "def pendulum_period(m=1.0, d=0.5, I_CM=0.1):\n",
    "    g = 9.81  # Aceleración debido a la gravedad en m/s^2\n",
    "    I = I_CM + m * d**2  # Aplicar el Teorema de Steiner\n",
    "    T = 2 * np.pi * np.sqrt(I / (m * g * d))  # Calcular el período\n",
    "\n",
    "    print(f\"El período del péndulo compuesto es: {T:.2f} segundos\")\n",
    "\n",
    "# Crear un gráfico interactivo\n",
    "interactive_plot = interactive(pendulum_period, m=(0.1, 10.0, 0.1), d=(0.1, 2.0, 0.1), I_CM=(0.01, 0.5, 0.01))\n",
    "interactive_plot\n"
   ]
  }
 ],
 "metadata": {
  "colab": {
   "provenance": []
  },
  "kernelspec": {
   "display_name": "Python 3",
   "name": "python3"
  },
  "language_info": {
   "name": "python"
  },
  "widgets": {
   "application/vnd.jupyter.widget-state+json": {
    "081257a04fc54fddaff735b104483e8a": {
     "model_module": "@jupyter-widgets/controls",
     "model_module_version": "1.5.0",
     "model_name": "FloatSliderModel",
     "state": {
      "_dom_classes": [],
      "_model_module": "@jupyter-widgets/controls",
      "_model_module_version": "1.5.0",
      "_model_name": "FloatSliderModel",
      "_view_count": null,
      "_view_module": "@jupyter-widgets/controls",
      "_view_module_version": "1.5.0",
      "_view_name": "FloatSliderView",
      "continuous_update": true,
      "description": "m",
      "description_tooltip": null,
      "disabled": false,
      "layout": "IPY_MODEL_cb9a8f8e854343a587e67c0f78bccc74",
      "max": 10,
      "min": 0.1,
      "orientation": "horizontal",
      "readout": true,
      "readout_format": ".2f",
      "step": 0.1,
      "style": "IPY_MODEL_69e6750516c642beb5faa8275a85601b",
      "value": 0.8
     }
    },
    "0d1626794ce84645b18141ae2034b985": {
     "model_module": "@jupyter-widgets/output",
     "model_module_version": "1.0.0",
     "model_name": "OutputModel",
     "state": {
      "_dom_classes": [],
      "_model_module": "@jupyter-widgets/output",
      "_model_module_version": "1.0.0",
      "_model_name": "OutputModel",
      "_view_count": null,
      "_view_module": "@jupyter-widgets/output",
      "_view_module_version": "1.0.0",
      "_view_name": "OutputView",
      "layout": "IPY_MODEL_b9ab78cfc1234d93b57e6334828b396c",
      "msg_id": "",
      "outputs": [
       {
        "data": {
         "image/png": "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\n",
         "text/plain": "<Figure size 800x600 with 1 Axes>"
        },
        "metadata": {},
        "output_type": "display_data"
       }
      ]
     }
    },
    "0d520ab565c04cc5ae78f087cbfc0eea": {
     "model_module": "@jupyter-widgets/controls",
     "model_module_version": "1.5.0",
     "model_name": "VBoxModel",
     "state": {
      "_dom_classes": [
       "widget-interact"
      ],
      "_model_module": "@jupyter-widgets/controls",
      "_model_module_version": "1.5.0",
      "_model_name": "VBoxModel",
      "_view_count": null,
      "_view_module": "@jupyter-widgets/controls",
      "_view_module_version": "1.5.0",
      "_view_name": "VBoxView",
      "box_style": "",
      "children": [
       "IPY_MODEL_7029dd7eabda42b8b2ac81a293fb6501",
       "IPY_MODEL_58fa6195e65f4af89a0f4870567a86a8",
       "IPY_MODEL_4b2f9bf5b33c46688ccaeccfb2e8d098",
       "IPY_MODEL_0d1626794ce84645b18141ae2034b985"
      ],
      "layout": "IPY_MODEL_549475e89c6f478e87e7ed1f359769f9"
     }
    },
    "391a0750ec4749a49b8a94f9d4c2b093": {
     "model_module": "@jupyter-widgets/controls",
     "model_module_version": "1.5.0",
     "model_name": "FloatSliderModel",
     "state": {
      "_dom_classes": [],
      "_model_module": "@jupyter-widgets/controls",
      "_model_module_version": "1.5.0",
      "_model_name": "FloatSliderModel",
      "_view_count": null,
      "_view_module": "@jupyter-widgets/controls",
      "_view_module_version": "1.5.0",
      "_view_name": "FloatSliderView",
      "continuous_update": true,
      "description": "I_CM",
      "description_tooltip": null,
      "disabled": false,
      "layout": "IPY_MODEL_cae4e864b007469da6a85a099b9756f9",
      "max": 0.5,
      "min": 0.01,
      "orientation": "horizontal",
      "readout": true,
      "readout_format": ".2f",
      "step": 0.01,
      "style": "IPY_MODEL_97819b642fc142c49d67b450e8688b19",
      "value": 0.11
     }
    },
    "45e95e9b9e6e46e4a2a4e28daacbbb61": {
     "model_module": "@jupyter-widgets/base",
     "model_module_version": "1.2.0",
     "model_name": "LayoutModel",
     "state": {
      "_model_module": "@jupyter-widgets/base",
      "_model_module_version": "1.2.0",
      "_model_name": "LayoutModel",
      "_view_count": null,
      "_view_module": "@jupyter-widgets/base",
      "_view_module_version": "1.2.0",
      "_view_name": "LayoutView",
      "align_content": null,
      "align_items": null,
      "align_self": null,
      "border": null,
      "bottom": null,
      "display": null,
      "flex": null,
      "flex_flow": null,
      "grid_area": null,
      "grid_auto_columns": null,
      "grid_auto_flow": null,
      "grid_auto_rows": null,
      "grid_column": null,
      "grid_gap": null,
      "grid_row": null,
      "grid_template_areas": null,
      "grid_template_columns": null,
      "grid_template_rows": null,
      "height": null,
      "justify_content": null,
      "justify_items": null,
      "left": null,
      "margin": null,
      "max_height": null,
      "max_width": null,
      "min_height": null,
      "min_width": null,
      "object_fit": null,
      "object_position": null,
      "order": null,
      "overflow": null,
      "overflow_x": null,
      "overflow_y": null,
      "padding": null,
      "right": null,
      "top": null,
      "visibility": null,
      "width": null
     }
    },
    "49b1d85b4bea4a66b18759fdfb006c16": {
     "model_module": "@jupyter-widgets/controls",
     "model_module_version": "1.5.0",
     "model_name": "SliderStyleModel",
     "state": {
      "_model_module": "@jupyter-widgets/controls",
      "_model_module_version": "1.5.0",
      "_model_name": "SliderStyleModel",
      "_view_count": null,
      "_view_module": "@jupyter-widgets/base",
      "_view_module_version": "1.2.0",
      "_view_name": "StyleView",
      "description_width": "",
      "handle_color": null
     }
    },
    "4b2f9bf5b33c46688ccaeccfb2e8d098": {
     "model_module": "@jupyter-widgets/controls",
     "model_module_version": "1.5.0",
     "model_name": "FloatSliderModel",
     "state": {
      "_dom_classes": [],
      "_model_module": "@jupyter-widgets/controls",
      "_model_module_version": "1.5.0",
      "_model_name": "FloatSliderModel",
      "_view_count": null,
      "_view_module": "@jupyter-widgets/controls",
      "_view_module_version": "1.5.0",
      "_view_name": "FloatSliderView",
      "continuous_update": true,
      "description": "Fase inicial",
      "description_tooltip": null,
      "disabled": false,
      "layout": "IPY_MODEL_666dae901dce4679b085a67bc47dd5db",
      "max": 6.28,
      "min": 0,
      "orientation": "horizontal",
      "readout": true,
      "readout_format": ".2f",
      "step": 0.1,
      "style": "IPY_MODEL_af7c17c9f76d4c8d81ee5fd6f5518b35",
      "value": 0
     }
    },
    "50cd4fad3d2c4f3f8bcb6353dc6a1c7f": {
     "model_module": "@jupyter-widgets/output",
     "model_module_version": "1.0.0",
     "model_name": "OutputModel",
     "state": {
      "_dom_classes": [],
      "_model_module": "@jupyter-widgets/output",
      "_model_module_version": "1.0.0",
      "_model_name": "OutputModel",
      "_view_count": null,
      "_view_module": "@jupyter-widgets/output",
      "_view_module_version": "1.0.0",
      "_view_name": "OutputView",
      "layout": "IPY_MODEL_75556873a82646d8a02f429b54a05109",
      "msg_id": "",
      "outputs": [
       {
        "name": "stdout",
        "output_type": "stream",
        "text": [
         "El período del péndulo compuesto es: 1.77 segundos\n"
        ]
       }
      ]
     }
    },
    "549475e89c6f478e87e7ed1f359769f9": {
     "model_module": "@jupyter-widgets/base",
     "model_module_version": "1.2.0",
     "model_name": "LayoutModel",
     "state": {
      "_model_module": "@jupyter-widgets/base",
      "_model_module_version": "1.2.0",
      "_model_name": "LayoutModel",
      "_view_count": null,
      "_view_module": "@jupyter-widgets/base",
      "_view_module_version": "1.2.0",
      "_view_name": "LayoutView",
      "align_content": null,
      "align_items": null,
      "align_self": null,
      "border": null,
      "bottom": null,
      "display": null,
      "flex": null,
      "flex_flow": null,
      "grid_area": null,
      "grid_auto_columns": null,
      "grid_auto_flow": null,
      "grid_auto_rows": null,
      "grid_column": null,
      "grid_gap": null,
      "grid_row": null,
      "grid_template_areas": null,
      "grid_template_columns": null,
      "grid_template_rows": null,
      "height": null,
      "justify_content": null,
      "justify_items": null,
      "left": null,
      "margin": null,
      "max_height": null,
      "max_width": null,
      "min_height": null,
      "min_width": null,
      "object_fit": null,
      "object_position": null,
      "order": null,
      "overflow": null,
      "overflow_x": null,
      "overflow_y": null,
      "padding": null,
      "right": null,
      "top": null,
      "visibility": null,
      "width": null
     }
    },
    "58fa6195e65f4af89a0f4870567a86a8": {
     "model_module": "@jupyter-widgets/controls",
     "model_module_version": "1.5.0",
     "model_name": "FloatSliderModel",
     "state": {
      "_dom_classes": [],
      "_model_module": "@jupyter-widgets/controls",
      "_model_module_version": "1.5.0",
      "_model_name": "FloatSliderModel",
      "_view_count": null,
      "_view_module": "@jupyter-widgets/controls",
      "_view_module_version": "1.5.0",
      "_view_name": "FloatSliderView",
      "continuous_update": true,
      "description": "Frecuencia angular",
      "description_tooltip": null,
      "disabled": false,
      "layout": "IPY_MODEL_ad629dd157844878b4cb2167722578f1",
      "max": 2,
      "min": 0.1,
      "orientation": "horizontal",
      "readout": true,
      "readout_format": ".2f",
      "step": 0.1,
      "style": "IPY_MODEL_d61dfef3da7f4316894e65e872221efa",
      "value": 1
     }
    },
    "666dae901dce4679b085a67bc47dd5db": {
     "model_module": "@jupyter-widgets/base",
     "model_module_version": "1.2.0",
     "model_name": "LayoutModel",
     "state": {
      "_model_module": "@jupyter-widgets/base",
      "_model_module_version": "1.2.0",
      "_model_name": "LayoutModel",
      "_view_count": null,
      "_view_module": "@jupyter-widgets/base",
      "_view_module_version": "1.2.0",
      "_view_name": "LayoutView",
      "align_content": null,
      "align_items": null,
      "align_self": null,
      "border": null,
      "bottom": null,
      "display": null,
      "flex": null,
      "flex_flow": null,
      "grid_area": null,
      "grid_auto_columns": null,
      "grid_auto_flow": null,
      "grid_auto_rows": null,
      "grid_column": null,
      "grid_gap": null,
      "grid_row": null,
      "grid_template_areas": null,
      "grid_template_columns": null,
      "grid_template_rows": null,
      "height": null,
      "justify_content": null,
      "justify_items": null,
      "left": null,
      "margin": null,
      "max_height": null,
      "max_width": null,
      "min_height": null,
      "min_width": null,
      "object_fit": null,
      "object_position": null,
      "order": null,
      "overflow": null,
      "overflow_x": null,
      "overflow_y": null,
      "padding": null,
      "right": null,
      "top": null,
      "visibility": null,
      "width": null
     }
    },
    "69e6750516c642beb5faa8275a85601b": {
     "model_module": "@jupyter-widgets/controls",
     "model_module_version": "1.5.0",
     "model_name": "SliderStyleModel",
     "state": {
      "_model_module": "@jupyter-widgets/controls",
      "_model_module_version": "1.5.0",
      "_model_name": "SliderStyleModel",
      "_view_count": null,
      "_view_module": "@jupyter-widgets/base",
      "_view_module_version": "1.2.0",
      "_view_name": "StyleView",
      "description_width": "",
      "handle_color": null
     }
    },
    "6f675e706ac3466dbee7b4c7c3b76ad2": {
     "model_module": "@jupyter-widgets/base",
     "model_module_version": "1.2.0",
     "model_name": "LayoutModel",
     "state": {
      "_model_module": "@jupyter-widgets/base",
      "_model_module_version": "1.2.0",
      "_model_name": "LayoutModel",
      "_view_count": null,
      "_view_module": "@jupyter-widgets/base",
      "_view_module_version": "1.2.0",
      "_view_name": "LayoutView",
      "align_content": null,
      "align_items": null,
      "align_self": null,
      "border": null,
      "bottom": null,
      "display": null,
      "flex": null,
      "flex_flow": null,
      "grid_area": null,
      "grid_auto_columns": null,
      "grid_auto_flow": null,
      "grid_auto_rows": null,
      "grid_column": null,
      "grid_gap": null,
      "grid_row": null,
      "grid_template_areas": null,
      "grid_template_columns": null,
      "grid_template_rows": null,
      "height": null,
      "justify_content": null,
      "justify_items": null,
      "left": null,
      "margin": null,
      "max_height": null,
      "max_width": null,
      "min_height": null,
      "min_width": null,
      "object_fit": null,
      "object_position": null,
      "order": null,
      "overflow": null,
      "overflow_x": null,
      "overflow_y": null,
      "padding": null,
      "right": null,
      "top": null,
      "visibility": null,
      "width": null
     }
    },
    "7029dd7eabda42b8b2ac81a293fb6501": {
     "model_module": "@jupyter-widgets/controls",
     "model_module_version": "1.5.0",
     "model_name": "FloatSliderModel",
     "state": {
      "_dom_classes": [],
      "_model_module": "@jupyter-widgets/controls",
      "_model_module_version": "1.5.0",
      "_model_name": "FloatSliderModel",
      "_view_count": null,
      "_view_module": "@jupyter-widgets/controls",
      "_view_module_version": "1.5.0",
      "_view_name": "FloatSliderView",
      "continuous_update": true,
      "description": "Amplitud",
      "description_tooltip": null,
      "disabled": false,
      "layout": "IPY_MODEL_9ab90004fd414daaafc9dc393034cedb",
      "max": 2,
      "min": 0.1,
      "orientation": "horizontal",
      "readout": true,
      "readout_format": ".2f",
      "step": 0.1,
      "style": "IPY_MODEL_49b1d85b4bea4a66b18759fdfb006c16",
      "value": 1
     }
    },
    "75556873a82646d8a02f429b54a05109": {
     "model_module": "@jupyter-widgets/base",
     "model_module_version": "1.2.0",
     "model_name": "LayoutModel",
     "state": {
      "_model_module": "@jupyter-widgets/base",
      "_model_module_version": "1.2.0",
      "_model_name": "LayoutModel",
      "_view_count": null,
      "_view_module": "@jupyter-widgets/base",
      "_view_module_version": "1.2.0",
      "_view_name": "LayoutView",
      "align_content": null,
      "align_items": null,
      "align_self": null,
      "border": null,
      "bottom": null,
      "display": null,
      "flex": null,
      "flex_flow": null,
      "grid_area": null,
      "grid_auto_columns": null,
      "grid_auto_flow": null,
      "grid_auto_rows": null,
      "grid_column": null,
      "grid_gap": null,
      "grid_row": null,
      "grid_template_areas": null,
      "grid_template_columns": null,
      "grid_template_rows": null,
      "height": null,
      "justify_content": null,
      "justify_items": null,
      "left": null,
      "margin": null,
      "max_height": null,
      "max_width": null,
      "min_height": null,
      "min_width": null,
      "object_fit": null,
      "object_position": null,
      "order": null,
      "overflow": null,
      "overflow_x": null,
      "overflow_y": null,
      "padding": null,
      "right": null,
      "top": null,
      "visibility": null,
      "width": null
     }
    },
    "7a52d39a970549edb6a6258ae9058f2d": {
     "model_module": "@jupyter-widgets/controls",
     "model_module_version": "1.5.0",
     "model_name": "SliderStyleModel",
     "state": {
      "_model_module": "@jupyter-widgets/controls",
      "_model_module_version": "1.5.0",
      "_model_name": "SliderStyleModel",
      "_view_count": null,
      "_view_module": "@jupyter-widgets/base",
      "_view_module_version": "1.2.0",
      "_view_name": "StyleView",
      "description_width": "",
      "handle_color": null
     }
    },
    "97819b642fc142c49d67b450e8688b19": {
     "model_module": "@jupyter-widgets/controls",
     "model_module_version": "1.5.0",
     "model_name": "SliderStyleModel",
     "state": {
      "_model_module": "@jupyter-widgets/controls",
      "_model_module_version": "1.5.0",
      "_model_name": "SliderStyleModel",
      "_view_count": null,
      "_view_module": "@jupyter-widgets/base",
      "_view_module_version": "1.2.0",
      "_view_name": "StyleView",
      "description_width": "",
      "handle_color": null
     }
    },
    "9ab90004fd414daaafc9dc393034cedb": {
     "model_module": "@jupyter-widgets/base",
     "model_module_version": "1.2.0",
     "model_name": "LayoutModel",
     "state": {
      "_model_module": "@jupyter-widgets/base",
      "_model_module_version": "1.2.0",
      "_model_name": "LayoutModel",
      "_view_count": null,
      "_view_module": "@jupyter-widgets/base",
      "_view_module_version": "1.2.0",
      "_view_name": "LayoutView",
      "align_content": null,
      "align_items": null,
      "align_self": null,
      "border": null,
      "bottom": null,
      "display": null,
      "flex": null,
      "flex_flow": null,
      "grid_area": null,
      "grid_auto_columns": null,
      "grid_auto_flow": null,
      "grid_auto_rows": null,
      "grid_column": null,
      "grid_gap": null,
      "grid_row": null,
      "grid_template_areas": null,
      "grid_template_columns": null,
      "grid_template_rows": null,
      "height": null,
      "justify_content": null,
      "justify_items": null,
      "left": null,
      "margin": null,
      "max_height": null,
      "max_width": null,
      "min_height": null,
      "min_width": null,
      "object_fit": null,
      "object_position": null,
      "order": null,
      "overflow": null,
      "overflow_x": null,
      "overflow_y": null,
      "padding": null,
      "right": null,
      "top": null,
      "visibility": null,
      "width": null
     }
    },
    "ad629dd157844878b4cb2167722578f1": {
     "model_module": "@jupyter-widgets/base",
     "model_module_version": "1.2.0",
     "model_name": "LayoutModel",
     "state": {
      "_model_module": "@jupyter-widgets/base",
      "_model_module_version": "1.2.0",
      "_model_name": "LayoutModel",
      "_view_count": null,
      "_view_module": "@jupyter-widgets/base",
      "_view_module_version": "1.2.0",
      "_view_name": "LayoutView",
      "align_content": null,
      "align_items": null,
      "align_self": null,
      "border": null,
      "bottom": null,
      "display": null,
      "flex": null,
      "flex_flow": null,
      "grid_area": null,
      "grid_auto_columns": null,
      "grid_auto_flow": null,
      "grid_auto_rows": null,
      "grid_column": null,
      "grid_gap": null,
      "grid_row": null,
      "grid_template_areas": null,
      "grid_template_columns": null,
      "grid_template_rows": null,
      "height": null,
      "justify_content": null,
      "justify_items": null,
      "left": null,
      "margin": null,
      "max_height": null,
      "max_width": null,
      "min_height": null,
      "min_width": null,
      "object_fit": null,
      "object_position": null,
      "order": null,
      "overflow": null,
      "overflow_x": null,
      "overflow_y": null,
      "padding": null,
      "right": null,
      "top": null,
      "visibility": null,
      "width": null
     }
    },
    "af7c17c9f76d4c8d81ee5fd6f5518b35": {
     "model_module": "@jupyter-widgets/controls",
     "model_module_version": "1.5.0",
     "model_name": "SliderStyleModel",
     "state": {
      "_model_module": "@jupyter-widgets/controls",
      "_model_module_version": "1.5.0",
      "_model_name": "SliderStyleModel",
      "_view_count": null,
      "_view_module": "@jupyter-widgets/base",
      "_view_module_version": "1.2.0",
      "_view_name": "StyleView",
      "description_width": "",
      "handle_color": null
     }
    },
    "b9ab78cfc1234d93b57e6334828b396c": {
     "model_module": "@jupyter-widgets/base",
     "model_module_version": "1.2.0",
     "model_name": "LayoutModel",
     "state": {
      "_model_module": "@jupyter-widgets/base",
      "_model_module_version": "1.2.0",
      "_model_name": "LayoutModel",
      "_view_count": null,
      "_view_module": "@jupyter-widgets/base",
      "_view_module_version": "1.2.0",
      "_view_name": "LayoutView",
      "align_content": null,
      "align_items": null,
      "align_self": null,
      "border": null,
      "bottom": null,
      "display": null,
      "flex": null,
      "flex_flow": null,
      "grid_area": null,
      "grid_auto_columns": null,
      "grid_auto_flow": null,
      "grid_auto_rows": null,
      "grid_column": null,
      "grid_gap": null,
      "grid_row": null,
      "grid_template_areas": null,
      "grid_template_columns": null,
      "grid_template_rows": null,
      "height": null,
      "justify_content": null,
      "justify_items": null,
      "left": null,
      "margin": null,
      "max_height": null,
      "max_width": null,
      "min_height": null,
      "min_width": null,
      "object_fit": null,
      "object_position": null,
      "order": null,
      "overflow": null,
      "overflow_x": null,
      "overflow_y": null,
      "padding": null,
      "right": null,
      "top": null,
      "visibility": null,
      "width": null
     }
    },
    "cae4e864b007469da6a85a099b9756f9": {
     "model_module": "@jupyter-widgets/base",
     "model_module_version": "1.2.0",
     "model_name": "LayoutModel",
     "state": {
      "_model_module": "@jupyter-widgets/base",
      "_model_module_version": "1.2.0",
      "_model_name": "LayoutModel",
      "_view_count": null,
      "_view_module": "@jupyter-widgets/base",
      "_view_module_version": "1.2.0",
      "_view_name": "LayoutView",
      "align_content": null,
      "align_items": null,
      "align_self": null,
      "border": null,
      "bottom": null,
      "display": null,
      "flex": null,
      "flex_flow": null,
      "grid_area": null,
      "grid_auto_columns": null,
      "grid_auto_flow": null,
      "grid_auto_rows": null,
      "grid_column": null,
      "grid_gap": null,
      "grid_row": null,
      "grid_template_areas": null,
      "grid_template_columns": null,
      "grid_template_rows": null,
      "height": null,
      "justify_content": null,
      "justify_items": null,
      "left": null,
      "margin": null,
      "max_height": null,
      "max_width": null,
      "min_height": null,
      "min_width": null,
      "object_fit": null,
      "object_position": null,
      "order": null,
      "overflow": null,
      "overflow_x": null,
      "overflow_y": null,
      "padding": null,
      "right": null,
      "top": null,
      "visibility": null,
      "width": null
     }
    },
    "cb9a8f8e854343a587e67c0f78bccc74": {
     "model_module": "@jupyter-widgets/base",
     "model_module_version": "1.2.0",
     "model_name": "LayoutModel",
     "state": {
      "_model_module": "@jupyter-widgets/base",
      "_model_module_version": "1.2.0",
      "_model_name": "LayoutModel",
      "_view_count": null,
      "_view_module": "@jupyter-widgets/base",
      "_view_module_version": "1.2.0",
      "_view_name": "LayoutView",
      "align_content": null,
      "align_items": null,
      "align_self": null,
      "border": null,
      "bottom": null,
      "display": null,
      "flex": null,
      "flex_flow": null,
      "grid_area": null,
      "grid_auto_columns": null,
      "grid_auto_flow": null,
      "grid_auto_rows": null,
      "grid_column": null,
      "grid_gap": null,
      "grid_row": null,
      "grid_template_areas": null,
      "grid_template_columns": null,
      "grid_template_rows": null,
      "height": null,
      "justify_content": null,
      "justify_items": null,
      "left": null,
      "margin": null,
      "max_height": null,
      "max_width": null,
      "min_height": null,
      "min_width": null,
      "object_fit": null,
      "object_position": null,
      "order": null,
      "overflow": null,
      "overflow_x": null,
      "overflow_y": null,
      "padding": null,
      "right": null,
      "top": null,
      "visibility": null,
      "width": null
     }
    },
    "d61dfef3da7f4316894e65e872221efa": {
     "model_module": "@jupyter-widgets/controls",
     "model_module_version": "1.5.0",
     "model_name": "SliderStyleModel",
     "state": {
      "_model_module": "@jupyter-widgets/controls",
      "_model_module_version": "1.5.0",
      "_model_name": "SliderStyleModel",
      "_view_count": null,
      "_view_module": "@jupyter-widgets/base",
      "_view_module_version": "1.2.0",
      "_view_name": "StyleView",
      "description_width": "",
      "handle_color": null
     }
    },
    "f2dd5827bf6142c594ad19fc9c0af37b": {
     "model_module": "@jupyter-widgets/controls",
     "model_module_version": "1.5.0",
     "model_name": "FloatSliderModel",
     "state": {
      "_dom_classes": [],
      "_model_module": "@jupyter-widgets/controls",
      "_model_module_version": "1.5.0",
      "_model_name": "FloatSliderModel",
      "_view_count": null,
      "_view_module": "@jupyter-widgets/controls",
      "_view_module_version": "1.5.0",
      "_view_name": "FloatSliderView",
      "continuous_update": true,
      "description": "d",
      "description_tooltip": null,
      "disabled": false,
      "layout": "IPY_MODEL_45e95e9b9e6e46e4a2a4e28daacbbb61",
      "max": 2,
      "min": 0.1,
      "orientation": "horizontal",
      "readout": true,
      "readout_format": ".2f",
      "step": 0.1,
      "style": "IPY_MODEL_7a52d39a970549edb6a6258ae9058f2d",
      "value": 0.5
     }
    },
    "f70650a161fc4b289dcf10a27dec029e": {
     "model_module": "@jupyter-widgets/controls",
     "model_module_version": "1.5.0",
     "model_name": "VBoxModel",
     "state": {
      "_dom_classes": [
       "widget-interact"
      ],
      "_model_module": "@jupyter-widgets/controls",
      "_model_module_version": "1.5.0",
      "_model_name": "VBoxModel",
      "_view_count": null,
      "_view_module": "@jupyter-widgets/controls",
      "_view_module_version": "1.5.0",
      "_view_name": "VBoxView",
      "box_style": "",
      "children": [
       "IPY_MODEL_081257a04fc54fddaff735b104483e8a",
       "IPY_MODEL_f2dd5827bf6142c594ad19fc9c0af37b",
       "IPY_MODEL_391a0750ec4749a49b8a94f9d4c2b093",
       "IPY_MODEL_50cd4fad3d2c4f3f8bcb6353dc6a1c7f"
      ],
      "layout": "IPY_MODEL_6f675e706ac3466dbee7b4c7c3b76ad2"
     }
    }
   }
  }
 },
 "nbformat": 4,
 "nbformat_minor": 0
}
